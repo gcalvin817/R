{
  "cells": [
    {
      "cell_type": "markdown",
      "metadata": {
        "id": "view-in-github",
        "colab_type": "text"
      },
      "source": [
        "<a href=\"https://colab.research.google.com/github/gcalvin817/R/blob/master/Math404_Stats_Book.ipynb\" target=\"_parent\"><img src=\"https://colab.research.google.com/assets/colab-badge.svg\" alt=\"Open In Colab\"/></a>"
      ]
    },
    {
      "cell_type": "markdown",
      "id": "145914fa",
      "metadata": {
        "id": "145914fa"
      },
      "source": [
        "## **1.1 Mathematical Operators in Python**\n",
        "\n",
        "Python offers numerous data types to represent numbers and logic values. These are given below:"
      ]
    },
    {
      "cell_type": "code",
      "execution_count": 1,
      "id": "82f3cba1",
      "metadata": {
        "id": "82f3cba1",
        "outputId": "ef87afe5-a336-4988-e423-94bc8b361e31",
        "colab": {
          "base_uri": "https://localhost:8080/"
        }
      },
      "outputs": [
        {
          "output_type": "execute_result",
          "data": {
            "text/plain": [
              "bool"
            ]
          },
          "metadata": {},
          "execution_count": 1
        }
      ],
      "source": [
        "x = True\n",
        "type(x)  # it returns the type of x as bool."
      ]
    },
    {
      "cell_type": "markdown",
      "id": "22c29bc2",
      "metadata": {
        "id": "22c29bc2"
      },
      "source": [
        "* **Integer:** An integer is a whole number without any fractional part. For instance, 5 is a whole number; it is an integer. Conversely, 5.0 is not an integer because it has a decimal part. Integers are represented by the data type **int** in Python.\n",
        "\n",
        "\n",
        "* **Float:** A floating-point number contains a decimal part. For example, 3.5 is a floating-point number. Python stores floating- point values in the data type **float.**\n",
        "\n",
        "* **Complex:** A complex number comprises of paired numbers: a real number and an imaginary number. The imaginary part of a complex number always appears with a j.\n",
        "\n",
        "  1. cmplx_no = 2 + 8j\n",
        "  \n",
        "  \n",
        "* **Bool:** Logical arguments require Boolean values represented by data type Bool in Python. A variable of type **Bool** can either be **True** or **False.** The first letter of both keywords is capital. We can assign a Boolean value to any variable using the keywords True or False as"
      ]
    },
    {
      "cell_type": "markdown",
      "id": "446a89a9",
      "metadata": {
        "id": "446a89a9"
      },
      "source": [
        "Alternatively, to define a Bool variable, we create an expression\n",
        "that defines a logical idea. As an example,"
      ]
    },
    {
      "cell_type": "code",
      "execution_count": 2,
      "id": "690f03ea",
      "metadata": {
        "id": "690f03ea",
        "outputId": "5bbb8a37-57b7-4d1b-dcb7-6672c84d7d04",
        "colab": {
          "base_uri": "https://localhost:8080/"
        }
      },
      "outputs": [
        {
          "output_type": "execute_result",
          "data": {
            "text/plain": [
              "False"
            ]
          },
          "metadata": {},
          "execution_count": 2
        }
      ],
      "source": [
        "bool_variable = 8 < 4\n",
        "bool_variable"
      ]
    },
    {
      "cell_type": "markdown",
      "id": "c87ddccb",
      "metadata": {
        "id": "c87ddccb"
      },
      "source": [
        "returns False because 8 is not smaller than 4."
      ]
    },
    {
      "cell_type": "markdown",
      "id": "4c42d984",
      "metadata": {
        "id": "4c42d984"
      },
      "source": [
        "### **1.1.1 Arithmetic Operators**"
      ]
    },
    {
      "cell_type": "markdown",
      "id": "b30fb7a1",
      "metadata": {
        "id": "b30fb7a1"
      },
      "source": [
        "To perform addition, subtraction, multiplication, and division, we use arithmetic operators +, -, *, and /, respectively. Arithmetic operations can be combined using parentheses ( ). To understand the working of these operators, type the following code."
      ]
    },
    {
      "cell_type": "code",
      "execution_count": 3,
      "id": "b6d711de",
      "metadata": {
        "id": "b6d711de",
        "outputId": "721cb14c-965d-4761-f543-ec51d2cef847",
        "colab": {
          "base_uri": "https://localhost:8080/"
        }
      },
      "outputs": [
        {
          "output_type": "execute_result",
          "data": {
            "text/plain": [
              "7"
            ]
          },
          "metadata": {},
          "execution_count": 3
        }
      ],
      "source": [
        "3 + 10 - 6"
      ]
    },
    {
      "cell_type": "code",
      "execution_count": 4,
      "id": "009dbb40",
      "metadata": {
        "id": "009dbb40",
        "outputId": "1fb113be-6b30-4160-c6e0-9062812eb964",
        "colab": {
          "base_uri": "https://localhost:8080/"
        }
      },
      "outputs": [
        {
          "output_type": "execute_result",
          "data": {
            "text/plain": [
              "-10"
            ]
          },
          "metadata": {},
          "execution_count": 4
        }
      ],
      "source": [
        "30 - 5 * 8"
      ]
    },
    {
      "cell_type": "code",
      "execution_count": 5,
      "id": "40b1538b",
      "metadata": {
        "id": "40b1538b",
        "outputId": "bb8ccf6c-2a5a-4ed3-87d1-5747787e67e2",
        "colab": {
          "base_uri": "https://localhost:8080/"
        }
      },
      "outputs": [
        {
          "output_type": "execute_result",
          "data": {
            "text/plain": [
              "2.5"
            ]
          },
          "metadata": {},
          "execution_count": 5
        }
      ],
      "source": [
        "20 / 8 # division returns a floating-point number"
      ]
    },
    {
      "cell_type": "markdown",
      "id": "45d5addb",
      "metadata": {
        "id": "45d5addb"
      },
      "source": [
        "To get an integer result from division by discarding the fractional part, we use the // operator."
      ]
    },
    {
      "cell_type": "code",
      "execution_count": 6,
      "id": "f083f28e",
      "metadata": {
        "id": "f083f28e",
        "outputId": "b4325168-e2bc-48d5-9db6-eb800398f023",
        "colab": {
          "base_uri": "https://localhost:8080/"
        }
      },
      "outputs": [
        {
          "output_type": "execute_result",
          "data": {
            "text/plain": [
              "3"
            ]
          },
          "metadata": {},
          "execution_count": 6
        }
      ],
      "source": [
        "20 // 6"
      ]
    },
    {
      "cell_type": "markdown",
      "id": "a1deb2df",
      "metadata": {
        "id": "a1deb2df"
      },
      "source": [
        "To calculate the remainder, we use the % operator."
      ]
    },
    {
      "cell_type": "code",
      "execution_count": 7,
      "id": "963e3c93",
      "metadata": {
        "id": "963e3c93",
        "outputId": "2f94bb74-ffb0-4779-b147-248374477190",
        "colab": {
          "base_uri": "https://localhost:8080/"
        }
      },
      "outputs": [
        {
          "output_type": "execute_result",
          "data": {
            "text/plain": [
              "2"
            ]
          },
          "metadata": {},
          "execution_count": 7
        }
      ],
      "source": [
        "20 % 6"
      ]
    },
    {
      "cell_type": "markdown",
      "id": "cb6e7be7",
      "metadata": {
        "id": "cb6e7be7"
      },
      "source": [
        "To calculate powers in Python, we use the ** operator."
      ]
    },
    {
      "cell_type": "code",
      "execution_count": 8,
      "id": "1c53272e",
      "metadata": {
        "id": "1c53272e",
        "outputId": "6e32eb0d-5387-4874-e3ba-7b7a2e9f8045",
        "colab": {
          "base_uri": "https://localhost:8080/"
        }
      },
      "outputs": [
        {
          "output_type": "execute_result",
          "data": {
            "text/plain": [
              "16"
            ]
          },
          "metadata": {},
          "execution_count": 8
        }
      ],
      "source": [
        "4 ** 2"
      ]
    },
    {
      "cell_type": "markdown",
      "id": "0beff3b6",
      "metadata": {
        "id": "0beff3b6"
      },
      "source": [
        "Operations involving int and float type operands return the output having the data type float."
      ]
    },
    {
      "cell_type": "code",
      "execution_count": 9,
      "id": "eff549e9",
      "metadata": {
        "id": "eff549e9",
        "outputId": "f3aa7241-3811-4293-90ee-d8905a78064f",
        "colab": {
          "base_uri": "https://localhost:8080/"
        }
      },
      "outputs": [
        {
          "output_type": "execute_result",
          "data": {
            "text/plain": [
              "float"
            ]
          },
          "metadata": {},
          "execution_count": 9
        }
      ],
      "source": [
        "type(6 * 5.3)"
      ]
    },
    {
      "cell_type": "markdown",
      "id": "0e2c99c4",
      "metadata": {
        "id": "0e2c99c4"
      },
      "source": [
        "Python supports complex numbers. It uses the suffix j or J to indicate the imaginary part of a complex number. To create a complex number, we type the following command."
      ]
    },
    {
      "cell_type": "code",
      "execution_count": 10,
      "id": "78c7ade3",
      "metadata": {
        "id": "78c7ade3",
        "outputId": "702bd9ae-ac0b-447e-c04d-bf7eb28c8751",
        "colab": {
          "base_uri": "https://localhost:8080/"
        }
      },
      "outputs": [
        {
          "output_type": "execute_result",
          "data": {
            "text/plain": [
              "(3+2j)"
            ]
          },
          "metadata": {},
          "execution_count": 10
        }
      ],
      "source": [
        "3 + 2j"
      ]
    },
    {
      "cell_type": "markdown",
      "id": "78eca5ff",
      "metadata": {
        "id": "78eca5ff"
      },
      "source": [
        "### **1.1.2 Assignment Operators**"
      ]
    },
    {
      "cell_type": "markdown",
      "id": "6bb067d9",
      "metadata": {
        "id": "6bb067d9"
      },
      "source": [
        "* A $\\textit{variable}$ is used to store the operands and results of the operations performed on these operands. It can be considered as a container that holds our information.\n",
        "\n",
        "\n",
        "* We store our results in a Python Notebook using variables. We make an assignment to a variable to store our data. Various assignment operators supported by Python are given below. The equal sign (=) is used to assign a value to a variable."
      ]
    },
    {
      "cell_type": "code",
      "execution_count": 11,
      "id": "36710648",
      "metadata": {
        "id": "36710648"
      },
      "outputs": [],
      "source": [
        "exam1 = 89\n",
        "exam2 = 78\n",
        "sum1 = exam1 + exam2"
      ]
    },
    {
      "cell_type": "markdown",
      "id": "cc6faf84",
      "metadata": {
        "id": "cc6faf84"
      },
      "source": [
        "* Variable names in Python are case-sensitive. It means that variable name height and Height are not the same.\n",
        "\n",
        "\n",
        "* If a variable is not assigned any value (not defined), we get an error when we try to use it:"
      ]
    },
    {
      "cell_type": "code",
      "execution_count": 12,
      "id": "a8e1ca78",
      "metadata": {
        "colab": {
          "base_uri": "https://localhost:8080/"
        },
        "id": "a8e1ca78",
        "outputId": "5f680681-3499-4ba7-a1d2-ca1a0ce32e11"
      },
      "outputs": [
        {
          "output_type": "execute_result",
          "data": {
            "text/plain": [
              "167"
            ]
          },
          "metadata": {},
          "execution_count": 12
        }
      ],
      "source": [
        "sum1"
      ]
    },
    {
      "cell_type": "markdown",
      "id": "fbb63c39",
      "metadata": {
        "id": "fbb63c39"
      },
      "source": [
        "* The following code assigns value 10 to my_var, then adds value 20 to it. Thus, the result stored in my_var becomes 30."
      ]
    },
    {
      "cell_type": "code",
      "execution_count": 13,
      "id": "fdca5320",
      "metadata": {
        "colab": {
          "base_uri": "https://localhost:8080/"
        },
        "id": "fdca5320",
        "outputId": "db89c0d2-f03f-4a35-f058-f7289ebe5ed0"
      },
      "outputs": [
        {
          "output_type": "execute_result",
          "data": {
            "text/plain": [
              "-10"
            ]
          },
          "metadata": {},
          "execution_count": 13
        }
      ],
      "source": [
        "my_var = 10\n",
        "my_var -= 20\n",
        "my_var"
      ]
    },
    {
      "cell_type": "markdown",
      "id": "c418bbdd",
      "metadata": {
        "id": "c418bbdd"
      },
      "source": [
        "### **1.1.3 Logical Operators**"
      ]
    },
    {
      "cell_type": "markdown",
      "id": "f0a414a5",
      "metadata": {
        "id": "f0a414a5"
      },
      "source": [
        "* Logical operators work on logical operands that can assume one of two values: `True` and `False`. The logical operators used in Python are given below."
      ]
    },
    {
      "cell_type": "markdown",
      "id": "82d418d4",
      "metadata": {
        "id": "82d418d4"
      },
      "source": [
        "**$\\textbf{Logical and:}$** It returns `True` only when both the operands are true"
      ]
    },
    {
      "cell_type": "code",
      "execution_count": 14,
      "id": "71d36601",
      "metadata": {
        "colab": {
          "base_uri": "https://localhost:8080/"
        },
        "id": "71d36601",
        "outputId": "f8d9a172-21d2-4fde-d2d1-cb880b493e23"
      },
      "outputs": [
        {
          "output_type": "execute_result",
          "data": {
            "text/plain": [
              "False"
            ]
          },
          "metadata": {},
          "execution_count": 14
        }
      ],
      "source": [
        "x = True\n",
        "y = False\n",
        "x and y"
      ]
    },
    {
      "cell_type": "markdown",
      "id": "fae5c948",
      "metadata": {
        "id": "fae5c948"
      },
      "source": [
        "$\\textbf{Logical or:}$ It returns True if either of the operands is true."
      ]
    },
    {
      "cell_type": "code",
      "execution_count": 15,
      "id": "e4d93ae1",
      "metadata": {
        "id": "e4d93ae1",
        "outputId": "8623f6d9-6840-4794-c93f-4a747ebc7512",
        "colab": {
          "base_uri": "https://localhost:8080/"
        }
      },
      "outputs": [
        {
          "output_type": "execute_result",
          "data": {
            "text/plain": [
              "True"
            ]
          },
          "metadata": {},
          "execution_count": 15
        }
      ],
      "source": [
        "x = True\n",
        "y = False\n",
        "x or y"
      ]
    },
    {
      "cell_type": "markdown",
      "id": "48abffeb",
      "metadata": {
        "id": "48abffeb"
      },
      "source": [
        "$\\textbf{Logical not:}$ It complements the operand."
      ]
    },
    {
      "cell_type": "code",
      "execution_count": 16,
      "id": "63d9af1e",
      "metadata": {
        "id": "63d9af1e",
        "outputId": "599e19b5-6667-400e-e2f2-001459833724",
        "colab": {
          "base_uri": "https://localhost:8080/"
        }
      },
      "outputs": [
        {
          "output_type": "execute_result",
          "data": {
            "text/plain": [
              "False"
            ]
          },
          "metadata": {},
          "execution_count": 16
        }
      ],
      "source": [
        "x = True\n",
        "not x"
      ]
    },
    {
      "cell_type": "markdown",
      "id": "7d16beae",
      "metadata": {
        "id": "7d16beae"
      },
      "source": [
        "### **1.1.4 Comparison Operators**"
      ]
    },
    {
      "cell_type": "markdown",
      "id": "37621287",
      "metadata": {
        "id": "37621287"
      },
      "source": [
        "* Comparison operators are used to find the relationship between two operands if they are equal, or one of the operands is greater than another operand, or vice versa.\n",
        "\n",
        "\n",
        "* These operators return either True or False, and they are extensively employed to make decisions in programming. The details of comparison operators are given below.\n",
        "\n",
        "\n",
        "Let x = 6 and y = −8 be the operands."
      ]
    },
    {
      "cell_type": "markdown",
      "id": "11600135",
      "metadata": {
        "id": "11600135"
      },
      "source": [
        "$\\textbf{Equal (==):}\\,\\, $  It checks if both operands x and y are equal."
      ]
    },
    {
      "cell_type": "code",
      "execution_count": 17,
      "id": "0cc443fb",
      "metadata": {
        "id": "0cc443fb",
        "outputId": "4b088ed3-e174-4c01-a645-30ab0a7e4fc9",
        "colab": {
          "base_uri": "https://localhost:8080/"
        }
      },
      "outputs": [
        {
          "output_type": "execute_result",
          "data": {
            "text/plain": [
              "False"
            ]
          },
          "metadata": {},
          "execution_count": 17
        }
      ],
      "source": [
        "x == y"
      ]
    },
    {
      "cell_type": "markdown",
      "id": "0e809fef",
      "metadata": {
        "id": "0e809fef"
      },
      "source": [
        "$\\textbf{Not equal (!=):}\\,\\, $ It checks if both operands x and y are not equal."
      ]
    },
    {
      "cell_type": "code",
      "execution_count": 18,
      "id": "3f1d8a01",
      "metadata": {
        "id": "3f1d8a01",
        "outputId": "e1e52b0e-ed99-478e-9614-669465c672b8",
        "colab": {
          "base_uri": "https://localhost:8080/"
        }
      },
      "outputs": [
        {
          "output_type": "execute_result",
          "data": {
            "text/plain": [
              "True"
            ]
          },
          "metadata": {},
          "execution_count": 18
        }
      ],
      "source": [
        "x != y"
      ]
    },
    {
      "cell_type": "markdown",
      "id": "2970e05a",
      "metadata": {
        "id": "2970e05a"
      },
      "source": [
        "$\\textbf{Greater than (>):}\\,\\, $ It checks if one operand is greater than the other operand."
      ]
    },
    {
      "cell_type": "code",
      "execution_count": 19,
      "id": "cc973bcc",
      "metadata": {
        "id": "cc973bcc",
        "outputId": "86c19069-3d5c-45cf-a525-0d6098c1cd8d",
        "colab": {
          "base_uri": "https://localhost:8080/"
        }
      },
      "outputs": [
        {
          "output_type": "execute_result",
          "data": {
            "text/plain": [
              "True"
            ]
          },
          "metadata": {},
          "execution_count": 19
        }
      ],
      "source": [
        "x > y"
      ]
    },
    {
      "cell_type": "markdown",
      "id": "89353f23",
      "metadata": {
        "id": "89353f23"
      },
      "source": [
        "$\\textbf{Less than (<):}\\,\\, $ It checks if one operand is smaller than the other operand."
      ]
    },
    {
      "cell_type": "markdown",
      "id": "c3713b33",
      "metadata": {
        "id": "c3713b33"
      },
      "source": [
        "x < y"
      ]
    },
    {
      "cell_type": "markdown",
      "id": "08e67e2d",
      "metadata": {
        "id": "08e67e2d"
      },
      "source": [
        "$\\textbf{Greater than or eqaul to (>=):}\\,\\,$ It checks if one operand is greater than or equal to the other operand."
      ]
    },
    {
      "cell_type": "code",
      "execution_count": 20,
      "id": "09609962",
      "metadata": {
        "id": "09609962",
        "outputId": "2459173c-0ab1-4f94-d2d0-1c27aa765bdd",
        "colab": {
          "base_uri": "https://localhost:8080/"
        }
      },
      "outputs": [
        {
          "output_type": "execute_result",
          "data": {
            "text/plain": [
              "True"
            ]
          },
          "metadata": {},
          "execution_count": 20
        }
      ],
      "source": [
        "x >= y"
      ]
    },
    {
      "cell_type": "markdown",
      "id": "54649269",
      "metadata": {
        "id": "54649269"
      },
      "source": [
        "$\\textbf{Less than or eqaul to (<=):}\\,\\,$ It checks whether one operand is less than or equal to the other operand."
      ]
    },
    {
      "cell_type": "code",
      "execution_count": 21,
      "id": "00b8182a",
      "metadata": {
        "id": "00b8182a",
        "outputId": "fccd7085-1048-44a4-86b5-4370433ec11c",
        "colab": {
          "base_uri": "https://localhost:8080/"
        }
      },
      "outputs": [
        {
          "output_type": "execute_result",
          "data": {
            "text/plain": [
              "False"
            ]
          },
          "metadata": {},
          "execution_count": 21
        }
      ],
      "source": [
        "x <= y"
      ]
    },
    {
      "cell_type": "markdown",
      "id": "0672a7fb",
      "metadata": {
        "id": "0672a7fb"
      },
      "source": [
        "### **1.1.5 Membership Operators**"
      ]
    },
    {
      "cell_type": "markdown",
      "id": "7c76f77a",
      "metadata": {
        "id": "7c76f77a"
      },
      "source": [
        "* These operators are used to find whether a particular item or set of items are present in a collection or not. The membership operators are **in** and **not in**.\n",
        "\n",
        "\n",
        "* They are used to test whether a value or variable is found in a sequence such as string, list, tuple, set, and dictionary.\n",
        "\n",
        "\n",
        "These operators are used in the following example."
      ]
    },
    {
      "cell_type": "code",
      "execution_count": 22,
      "id": "2e7c91b2",
      "metadata": {
        "colab": {
          "base_uri": "https://localhost:8080/"
        },
        "id": "2e7c91b2",
        "outputId": "c048c4a5-992e-41b9-cd4d-91a2f385d4b4"
      },
      "outputs": [
        {
          "output_type": "stream",
          "name": "stdout",
          "text": [
            "False\n",
            "False\n"
          ]
        }
      ],
      "source": [
        "x = 'Hello world' ## x is a string of characters\n",
        "print('h' in x) ## returns True if ‘H’ is in x\n",
        "print('Hello' not in x) ## returns True if ‘Hello’ is not present in x"
      ]
    },
    {
      "cell_type": "markdown",
      "id": "7f346e3b",
      "metadata": {
        "id": "7f346e3b"
      },
      "source": [
        "## **1.2 String Operations**"
      ]
    },
    {
      "cell_type": "markdown",
      "id": "0e5df703",
      "metadata": {
        "id": "0e5df703"
      },
      "source": [
        "* Text data includes numbers, alphabets, spaces, and special characters such as comma, full stop, and colon.\n",
        "\n",
        "\n",
        "* Python represents text using a string data type. It provides us with rich resources to manipulate strings.\n",
        "\n",
        "\n",
        "* Since computers work on binary numbers, they convert string characters into numbers using a standard called *Unicode*.\n",
        "\n",
        "\n",
        "* This number is then stored in memory. For instance, the letter A is converted to its Unicode 65. Type ord(“A”) in the Jupyter cell and press Enter to observe 65 as an output."
      ]
    },
    {
      "cell_type": "code",
      "execution_count": 23,
      "id": "9043f190",
      "metadata": {
        "colab": {
          "base_uri": "https://localhost:8080/"
        },
        "id": "9043f190",
        "outputId": "9863356a-efb1-4234-9d6f-1ad4b411d046"
      },
      "outputs": [
        {
          "output_type": "execute_result",
          "data": {
            "text/plain": [
              "90"
            ]
          },
          "metadata": {},
          "execution_count": 23
        }
      ],
      "source": [
        "ord(\"Z\")"
      ]
    },
    {
      "cell_type": "markdown",
      "id": "ce166cae",
      "metadata": {
        "id": "ce166cae"
      },
      "source": [
        "In Python, strings are specified either by:"
      ]
    },
    {
      "cell_type": "markdown",
      "id": "2befed5f",
      "metadata": {
        "id": "2befed5f"
      },
      "source": [
        "* Enclosing characters in single quotes (‘...’) or\n",
        "\n",
        "\n",
        "* Enclosing characters in double quotes (“...”)\n",
        "\n",
        "\n",
        "In Python, a string is an array of bytes representing Unicode characters. A single character is a string with a length of 1. Type the following code to observe the output."
      ]
    },
    {
      "cell_type": "code",
      "execution_count": 24,
      "id": "c57e0907",
      "metadata": {
        "colab": {
          "base_uri": "https://localhost:8080/"
        },
        "id": "c57e0907",
        "outputId": "6e2be30a-ea31-44cd-8d2b-7c92dca13392"
      },
      "outputs": [
        {
          "output_type": "stream",
          "name": "stdout",
          "text": [
            "An example string in single quotes.\n",
            "False\n"
          ]
        }
      ],
      "source": [
        "a = 'An example string in single quotes.'\n",
        "print(a)\n",
        "print('example' not in a)"
      ]
    },
    {
      "cell_type": "code",
      "execution_count": 25,
      "id": "ab8c1108",
      "metadata": {
        "id": "ab8c1108",
        "outputId": "8133b726-2639-451f-e523-07f5e40c6d20",
        "colab": {
          "base_uri": "https://localhost:8080/",
          "height": 35
        }
      },
      "outputs": [
        {
          "output_type": "execute_result",
          "data": {
            "text/plain": [
              "'A string in double quotes.'"
            ],
            "application/vnd.google.colaboratory.intrinsic+json": {
              "type": "string"
            }
          },
          "metadata": {},
          "execution_count": 25
        }
      ],
      "source": [
        "'A string in double quotes.'"
      ]
    },
    {
      "cell_type": "markdown",
      "id": "6ed54509",
      "metadata": {
        "id": "6ed54509"
      },
      "source": [
        "Multiple strings can be specified and printed using the print statement. A comma is used to separate different strings. Try the following code to print multiple strings. The print( ) function omits the enclosing quotes in the output."
      ]
    },
    {
      "cell_type": "code",
      "execution_count": 26,
      "id": "18153a77",
      "metadata": {
        "id": "18153a77",
        "outputId": "c96c5d33-dddf-48bb-b6c4-fdbc0db9fbb0",
        "colab": {
          "base_uri": "https://localhost:8080/"
        }
      },
      "outputs": [
        {
          "output_type": "stream",
          "name": "stdout",
          "text": [
            "margo and apple are fruits\n"
          ]
        }
      ],
      "source": [
        "print('margo', 'and apple', 'are fruits')"
      ]
    },
    {
      "cell_type": "markdown",
      "id": "95733125",
      "metadata": {
        "id": "95733125"
      },
      "source": [
        "We get an error message when we try to print a single quote in a string enclosed in ‘…’. The same error message is displayed if we try to print a double quote in a string enclosed in “…”."
      ]
    },
    {
      "cell_type": "code",
      "execution_count": 30,
      "id": "a7b6b27e",
      "metadata": {
        "id": "a7b6b27e",
        "outputId": "7f75fea4-4876-486f-ec80-8e4e665ac9aa",
        "colab": {
          "base_uri": "https://localhost:8080/",
          "height": 108
        }
      },
      "outputs": [
        {
          "output_type": "error",
          "ename": "SyntaxError",
          "evalue": "unterminated string literal (detected at line 1) (<ipython-input-30-720eced34847>, line 1)",
          "traceback": [
            "\u001b[0;36m  File \u001b[0;32m\"<ipython-input-30-720eced34847>\"\u001b[0;36m, line \u001b[0;32m1\u001b[0m\n\u001b[0;31m    print('Why don't we visit the museum?')\u001b[0m\n\u001b[0m                                         ^\u001b[0m\n\u001b[0;31mSyntaxError\u001b[0m\u001b[0;31m:\u001b[0m unterminated string literal (detected at line 1)\n"
          ]
        }
      ],
      "source": [
        "print('Why don't we visit the museum?')"
      ]
    },
    {
      "cell_type": "markdown",
      "id": "2a502d23",
      "metadata": {
        "id": "2a502d23"
      },
      "source": [
        "To print such characters, we use backslash \\ , called the escape character."
      ]
    },
    {
      "cell_type": "code",
      "execution_count": 31,
      "id": "e6479a05",
      "metadata": {
        "id": "e6479a05",
        "outputId": "1ecb9eef-fbf2-48e0-d23c-4c7fb1cc6318",
        "colab": {
          "base_uri": "https://localhost:8080/"
        }
      },
      "outputs": [
        {
          "output_type": "stream",
          "name": "stdout",
          "text": [
            "Why don't we visit the museum?\n"
          ]
        }
      ],
      "source": [
        "print('Why don\\'t we visit the museum?')"
      ]
    },
    {
      "cell_type": "markdown",
      "id": "ef3c559b",
      "metadata": {
        "id": "ef3c559b"
      },
      "source": [
        "Special tasks can be performed using escape characters. For example, \\t generates a tab."
      ]
    },
    {
      "cell_type": "code",
      "execution_count": 32,
      "id": "06fb9d66",
      "metadata": {
        "id": "06fb9d66",
        "outputId": "48f8771f-1116-4c7b-d23d-eed0ca0ef132",
        "colab": {
          "base_uri": "https://localhost:8080/"
        }
      },
      "outputs": [
        {
          "output_type": "stream",
          "name": "stdout",
          "text": [
            "Why don't we visit \t the museum?\n"
          ]
        }
      ],
      "source": [
        "print('Why don\\'t we visit \\t the museum?')"
      ]
    },
    {
      "cell_type": "markdown",
      "id": "819af439",
      "metadata": {
        "id": "819af439"
      },
      "source": [
        "While \\n produces a new line within the print statement."
      ]
    },
    {
      "cell_type": "code",
      "execution_count": 33,
      "id": "19fc2f80",
      "metadata": {
        "id": "19fc2f80",
        "outputId": "06d2d6c4-f2de-4848-8002-e19f6a5157bf",
        "colab": {
          "base_uri": "https://localhost:8080/"
        }
      },
      "outputs": [
        {
          "output_type": "stream",
          "name": "stdout",
          "text": [
            "Why don't we visit \n",
            " the museum?\n"
          ]
        }
      ],
      "source": [
        "print('Why don\\'t we visit \\n the museum?')"
      ]
    },
    {
      "cell_type": "markdown",
      "id": "5968c015",
      "metadata": {
        "id": "5968c015"
      },
      "source": [
        "Suppose we want to display the path of a directory such as C:\\new_directory using a print statement.\n",
        "\n",
        "\n",
        "* We will get a new line because \\n in the directory name produces a new line.\n",
        "\n",
        "\n",
        "* To ignore the new line, we use the letter r at the start of the directory name as follows:"
      ]
    },
    {
      "cell_type": "code",
      "execution_count": 34,
      "id": "cccf9e7b",
      "metadata": {
        "id": "cccf9e7b",
        "outputId": "e8d30966-09a3-4b61-e16f-29694bcfe5f7",
        "colab": {
          "base_uri": "https://localhost:8080/"
        }
      },
      "outputs": [
        {
          "output_type": "stream",
          "name": "stdout",
          "text": [
            "c:\\new_directory\n"
          ]
        }
      ],
      "source": [
        "print(r'c:\\new_directory')"
      ]
    },
    {
      "cell_type": "markdown",
      "id": "d9578f28",
      "metadata": {
        "id": "d9578f28"
      },
      "source": [
        "The operator + can be used to concatenate strings together."
      ]
    },
    {
      "cell_type": "code",
      "execution_count": 35,
      "id": "0bcd1825",
      "metadata": {
        "id": "0bcd1825",
        "outputId": "f38cd082-dd24-4abc-e767-5d54c60cdf71",
        "colab": {
          "base_uri": "https://localhost:8080/",
          "height": 35
        }
      },
      "outputs": [
        {
          "output_type": "execute_result",
          "data": {
            "text/plain": [
              "'StatisticsusingPython'"
            ],
            "application/vnd.google.colaboratory.intrinsic+json": {
              "type": "string"
            }
          },
          "metadata": {},
          "execution_count": 35
        }
      ],
      "source": [
        "mystr1 = 'Statistics'\n",
        "mystr2 = 'using'\n",
        "mystr3 = 'Python'\n",
        "mystr1 + mystr2 + mystr3"
      ]
    },
    {
      "cell_type": "markdown",
      "id": "81e3c225",
      "metadata": {
        "id": "81e3c225"
      },
      "source": [
        "### **String Indexing**"
      ]
    },
    {
      "cell_type": "markdown",
      "id": "acff2e25",
      "metadata": {
        "id": "acff2e25"
      },
      "source": [
        "The string elements, individual characters, or a substring can be accessed in Python using positive as well as negative indices. Indexing used by Python is shown below:"
      ]
    },
    {
      "cell_type": "code",
      "execution_count": 36,
      "id": "7b683d81",
      "metadata": {
        "id": "7b683d81",
        "outputId": "3928a63f-2c59-4e4f-d0fd-d5bce2135842",
        "colab": {
          "base_uri": "https://localhost:8080/",
          "height": 1000
        }
      },
      "outputs": [
        {
          "output_type": "error",
          "ename": "FileNotFoundError",
          "evalue": "No such file or directory: '/Users/calvingayeii/Library/CloudStorage/OneDrive-Personal/Lecture2024/LinearAlgebraPYTHON/googleColabs/p.png'",
          "traceback": [
            "\u001b[0;31m---------------------------------------------------------------------------\u001b[0m",
            "\u001b[0;31mTypeError\u001b[0m                                 Traceback (most recent call last)",
            "\u001b[0;32m/usr/local/lib/python3.10/dist-packages/IPython/core/display.py\u001b[0m in \u001b[0;36m_data_and_metadata\u001b[0;34m(self, always_both)\u001b[0m\n\u001b[1;32m   1299\u001b[0m         \u001b[0;32mtry\u001b[0m\u001b[0;34m:\u001b[0m\u001b[0;34m\u001b[0m\u001b[0;34m\u001b[0m\u001b[0m\n\u001b[0;32m-> 1300\u001b[0;31m             \u001b[0mb64_data\u001b[0m \u001b[0;34m=\u001b[0m \u001b[0mb2a_base64\u001b[0m\u001b[0;34m(\u001b[0m\u001b[0mself\u001b[0m\u001b[0;34m.\u001b[0m\u001b[0mdata\u001b[0m\u001b[0;34m)\u001b[0m\u001b[0;34m.\u001b[0m\u001b[0mdecode\u001b[0m\u001b[0;34m(\u001b[0m\u001b[0;34m'ascii'\u001b[0m\u001b[0;34m)\u001b[0m\u001b[0;34m\u001b[0m\u001b[0;34m\u001b[0m\u001b[0m\n\u001b[0m\u001b[1;32m   1301\u001b[0m         \u001b[0;32mexcept\u001b[0m \u001b[0mTypeError\u001b[0m\u001b[0;34m:\u001b[0m\u001b[0;34m\u001b[0m\u001b[0;34m\u001b[0m\u001b[0m\n",
            "\u001b[0;31mTypeError\u001b[0m: a bytes-like object is required, not 'str'",
            "\nDuring handling of the above exception, another exception occurred:\n",
            "\u001b[0;31mFileNotFoundError\u001b[0m                         Traceback (most recent call last)",
            "\u001b[0;32m/usr/local/lib/python3.10/dist-packages/IPython/core/formatters.py\u001b[0m in \u001b[0;36m__call__\u001b[0;34m(self, obj, include, exclude)\u001b[0m\n\u001b[1;32m    968\u001b[0m \u001b[0;34m\u001b[0m\u001b[0m\n\u001b[1;32m    969\u001b[0m             \u001b[0;32mif\u001b[0m \u001b[0mmethod\u001b[0m \u001b[0;32mis\u001b[0m \u001b[0;32mnot\u001b[0m \u001b[0;32mNone\u001b[0m\u001b[0;34m:\u001b[0m\u001b[0;34m\u001b[0m\u001b[0;34m\u001b[0m\u001b[0m\n\u001b[0;32m--> 970\u001b[0;31m                 \u001b[0;32mreturn\u001b[0m \u001b[0mmethod\u001b[0m\u001b[0;34m(\u001b[0m\u001b[0minclude\u001b[0m\u001b[0;34m=\u001b[0m\u001b[0minclude\u001b[0m\u001b[0;34m,\u001b[0m \u001b[0mexclude\u001b[0m\u001b[0;34m=\u001b[0m\u001b[0mexclude\u001b[0m\u001b[0;34m)\u001b[0m\u001b[0;34m\u001b[0m\u001b[0;34m\u001b[0m\u001b[0m\n\u001b[0m\u001b[1;32m    971\u001b[0m             \u001b[0;32mreturn\u001b[0m \u001b[0;32mNone\u001b[0m\u001b[0;34m\u001b[0m\u001b[0;34m\u001b[0m\u001b[0m\n\u001b[1;32m    972\u001b[0m         \u001b[0;32melse\u001b[0m\u001b[0;34m:\u001b[0m\u001b[0;34m\u001b[0m\u001b[0;34m\u001b[0m\u001b[0m\n",
            "\u001b[0;32m/usr/local/lib/python3.10/dist-packages/IPython/core/display.py\u001b[0m in \u001b[0;36m_repr_mimebundle_\u001b[0;34m(self, include, exclude)\u001b[0m\n\u001b[1;32m   1288\u001b[0m         \u001b[0;32mif\u001b[0m \u001b[0mself\u001b[0m\u001b[0;34m.\u001b[0m\u001b[0membed\u001b[0m\u001b[0;34m:\u001b[0m\u001b[0;34m\u001b[0m\u001b[0;34m\u001b[0m\u001b[0m\n\u001b[1;32m   1289\u001b[0m             \u001b[0mmimetype\u001b[0m \u001b[0;34m=\u001b[0m \u001b[0mself\u001b[0m\u001b[0;34m.\u001b[0m\u001b[0m_mimetype\u001b[0m\u001b[0;34m\u001b[0m\u001b[0;34m\u001b[0m\u001b[0m\n\u001b[0;32m-> 1290\u001b[0;31m             \u001b[0mdata\u001b[0m\u001b[0;34m,\u001b[0m \u001b[0mmetadata\u001b[0m \u001b[0;34m=\u001b[0m \u001b[0mself\u001b[0m\u001b[0;34m.\u001b[0m\u001b[0m_data_and_metadata\u001b[0m\u001b[0;34m(\u001b[0m\u001b[0malways_both\u001b[0m\u001b[0;34m=\u001b[0m\u001b[0;32mTrue\u001b[0m\u001b[0;34m)\u001b[0m\u001b[0;34m\u001b[0m\u001b[0;34m\u001b[0m\u001b[0m\n\u001b[0m\u001b[1;32m   1291\u001b[0m             \u001b[0;32mif\u001b[0m \u001b[0mmetadata\u001b[0m\u001b[0;34m:\u001b[0m\u001b[0;34m\u001b[0m\u001b[0;34m\u001b[0m\u001b[0m\n\u001b[1;32m   1292\u001b[0m                 \u001b[0mmetadata\u001b[0m \u001b[0;34m=\u001b[0m \u001b[0;34m{\u001b[0m\u001b[0mmimetype\u001b[0m\u001b[0;34m:\u001b[0m \u001b[0mmetadata\u001b[0m\u001b[0;34m}\u001b[0m\u001b[0;34m\u001b[0m\u001b[0;34m\u001b[0m\u001b[0m\n",
            "\u001b[0;32m/usr/local/lib/python3.10/dist-packages/IPython/core/display.py\u001b[0m in \u001b[0;36m_data_and_metadata\u001b[0;34m(self, always_both)\u001b[0m\n\u001b[1;32m   1300\u001b[0m             \u001b[0mb64_data\u001b[0m \u001b[0;34m=\u001b[0m \u001b[0mb2a_base64\u001b[0m\u001b[0;34m(\u001b[0m\u001b[0mself\u001b[0m\u001b[0;34m.\u001b[0m\u001b[0mdata\u001b[0m\u001b[0;34m)\u001b[0m\u001b[0;34m.\u001b[0m\u001b[0mdecode\u001b[0m\u001b[0;34m(\u001b[0m\u001b[0;34m'ascii'\u001b[0m\u001b[0;34m)\u001b[0m\u001b[0;34m\u001b[0m\u001b[0;34m\u001b[0m\u001b[0m\n\u001b[1;32m   1301\u001b[0m         \u001b[0;32mexcept\u001b[0m \u001b[0mTypeError\u001b[0m\u001b[0;34m:\u001b[0m\u001b[0;34m\u001b[0m\u001b[0;34m\u001b[0m\u001b[0m\n\u001b[0;32m-> 1302\u001b[0;31m             raise FileNotFoundError(\n\u001b[0m\u001b[1;32m   1303\u001b[0m                 \"No such file or directory: '%s'\" % (self.data))\n\u001b[1;32m   1304\u001b[0m         \u001b[0mmd\u001b[0m \u001b[0;34m=\u001b[0m \u001b[0;34m{\u001b[0m\u001b[0;34m}\u001b[0m\u001b[0;34m\u001b[0m\u001b[0;34m\u001b[0m\u001b[0m\n",
            "\u001b[0;31mFileNotFoundError\u001b[0m: No such file or directory: '/Users/calvingayeii/Library/CloudStorage/OneDrive-Personal/Lecture2024/LinearAlgebraPYTHON/googleColabs/p.png'"
          ]
        },
        {
          "output_type": "error",
          "ename": "FileNotFoundError",
          "evalue": "No such file or directory: '/Users/calvingayeii/Library/CloudStorage/OneDrive-Personal/Lecture2024/LinearAlgebraPYTHON/googleColabs/p.png'",
          "traceback": [
            "\u001b[0;31m---------------------------------------------------------------------------\u001b[0m",
            "\u001b[0;31mTypeError\u001b[0m                                 Traceback (most recent call last)",
            "\u001b[0;32m/usr/local/lib/python3.10/dist-packages/IPython/core/display.py\u001b[0m in \u001b[0;36m_data_and_metadata\u001b[0;34m(self, always_both)\u001b[0m\n\u001b[1;32m   1299\u001b[0m         \u001b[0;32mtry\u001b[0m\u001b[0;34m:\u001b[0m\u001b[0;34m\u001b[0m\u001b[0;34m\u001b[0m\u001b[0m\n\u001b[0;32m-> 1300\u001b[0;31m             \u001b[0mb64_data\u001b[0m \u001b[0;34m=\u001b[0m \u001b[0mb2a_base64\u001b[0m\u001b[0;34m(\u001b[0m\u001b[0mself\u001b[0m\u001b[0;34m.\u001b[0m\u001b[0mdata\u001b[0m\u001b[0;34m)\u001b[0m\u001b[0;34m.\u001b[0m\u001b[0mdecode\u001b[0m\u001b[0;34m(\u001b[0m\u001b[0;34m'ascii'\u001b[0m\u001b[0;34m)\u001b[0m\u001b[0;34m\u001b[0m\u001b[0;34m\u001b[0m\u001b[0m\n\u001b[0m\u001b[1;32m   1301\u001b[0m         \u001b[0;32mexcept\u001b[0m \u001b[0mTypeError\u001b[0m\u001b[0;34m:\u001b[0m\u001b[0;34m\u001b[0m\u001b[0;34m\u001b[0m\u001b[0m\n",
            "\u001b[0;31mTypeError\u001b[0m: a bytes-like object is required, not 'str'",
            "\nDuring handling of the above exception, another exception occurred:\n",
            "\u001b[0;31mFileNotFoundError\u001b[0m                         Traceback (most recent call last)",
            "\u001b[0;32m/usr/local/lib/python3.10/dist-packages/IPython/core/formatters.py\u001b[0m in \u001b[0;36m__call__\u001b[0;34m(self, obj)\u001b[0m\n\u001b[1;32m    343\u001b[0m             \u001b[0mmethod\u001b[0m \u001b[0;34m=\u001b[0m \u001b[0mget_real_method\u001b[0m\u001b[0;34m(\u001b[0m\u001b[0mobj\u001b[0m\u001b[0;34m,\u001b[0m \u001b[0mself\u001b[0m\u001b[0;34m.\u001b[0m\u001b[0mprint_method\u001b[0m\u001b[0;34m)\u001b[0m\u001b[0;34m\u001b[0m\u001b[0;34m\u001b[0m\u001b[0m\n\u001b[1;32m    344\u001b[0m             \u001b[0;32mif\u001b[0m \u001b[0mmethod\u001b[0m \u001b[0;32mis\u001b[0m \u001b[0;32mnot\u001b[0m \u001b[0;32mNone\u001b[0m\u001b[0;34m:\u001b[0m\u001b[0;34m\u001b[0m\u001b[0;34m\u001b[0m\u001b[0m\n\u001b[0;32m--> 345\u001b[0;31m                 \u001b[0;32mreturn\u001b[0m \u001b[0mmethod\u001b[0m\u001b[0;34m(\u001b[0m\u001b[0;34m)\u001b[0m\u001b[0;34m\u001b[0m\u001b[0;34m\u001b[0m\u001b[0m\n\u001b[0m\u001b[1;32m    346\u001b[0m             \u001b[0;32mreturn\u001b[0m \u001b[0;32mNone\u001b[0m\u001b[0;34m\u001b[0m\u001b[0;34m\u001b[0m\u001b[0m\n\u001b[1;32m    347\u001b[0m         \u001b[0;32melse\u001b[0m\u001b[0;34m:\u001b[0m\u001b[0;34m\u001b[0m\u001b[0;34m\u001b[0m\u001b[0m\n",
            "\u001b[0;32m/usr/local/lib/python3.10/dist-packages/IPython/core/display.py\u001b[0m in \u001b[0;36m_repr_png_\u001b[0;34m(self)\u001b[0m\n\u001b[1;32m   1318\u001b[0m     \u001b[0;32mdef\u001b[0m \u001b[0m_repr_png_\u001b[0m\u001b[0;34m(\u001b[0m\u001b[0mself\u001b[0m\u001b[0;34m)\u001b[0m\u001b[0;34m:\u001b[0m\u001b[0;34m\u001b[0m\u001b[0;34m\u001b[0m\u001b[0m\n\u001b[1;32m   1319\u001b[0m         \u001b[0;32mif\u001b[0m \u001b[0mself\u001b[0m\u001b[0;34m.\u001b[0m\u001b[0membed\u001b[0m \u001b[0;32mand\u001b[0m \u001b[0mself\u001b[0m\u001b[0;34m.\u001b[0m\u001b[0mformat\u001b[0m \u001b[0;34m==\u001b[0m \u001b[0mself\u001b[0m\u001b[0;34m.\u001b[0m\u001b[0m_FMT_PNG\u001b[0m\u001b[0;34m:\u001b[0m\u001b[0;34m\u001b[0m\u001b[0;34m\u001b[0m\u001b[0m\n\u001b[0;32m-> 1320\u001b[0;31m             \u001b[0;32mreturn\u001b[0m \u001b[0mself\u001b[0m\u001b[0;34m.\u001b[0m\u001b[0m_data_and_metadata\u001b[0m\u001b[0;34m(\u001b[0m\u001b[0;34m)\u001b[0m\u001b[0;34m\u001b[0m\u001b[0;34m\u001b[0m\u001b[0m\n\u001b[0m\u001b[1;32m   1321\u001b[0m \u001b[0;34m\u001b[0m\u001b[0m\n\u001b[1;32m   1322\u001b[0m     \u001b[0;32mdef\u001b[0m \u001b[0m_repr_jpeg_\u001b[0m\u001b[0;34m(\u001b[0m\u001b[0mself\u001b[0m\u001b[0;34m)\u001b[0m\u001b[0;34m:\u001b[0m\u001b[0;34m\u001b[0m\u001b[0;34m\u001b[0m\u001b[0m\n",
            "\u001b[0;32m/usr/local/lib/python3.10/dist-packages/IPython/core/display.py\u001b[0m in \u001b[0;36m_data_and_metadata\u001b[0;34m(self, always_both)\u001b[0m\n\u001b[1;32m   1300\u001b[0m             \u001b[0mb64_data\u001b[0m \u001b[0;34m=\u001b[0m \u001b[0mb2a_base64\u001b[0m\u001b[0;34m(\u001b[0m\u001b[0mself\u001b[0m\u001b[0;34m.\u001b[0m\u001b[0mdata\u001b[0m\u001b[0;34m)\u001b[0m\u001b[0;34m.\u001b[0m\u001b[0mdecode\u001b[0m\u001b[0;34m(\u001b[0m\u001b[0;34m'ascii'\u001b[0m\u001b[0;34m)\u001b[0m\u001b[0;34m\u001b[0m\u001b[0;34m\u001b[0m\u001b[0m\n\u001b[1;32m   1301\u001b[0m         \u001b[0;32mexcept\u001b[0m \u001b[0mTypeError\u001b[0m\u001b[0;34m:\u001b[0m\u001b[0;34m\u001b[0m\u001b[0;34m\u001b[0m\u001b[0m\n\u001b[0;32m-> 1302\u001b[0;31m             raise FileNotFoundError(\n\u001b[0m\u001b[1;32m   1303\u001b[0m                 \"No such file or directory: '%s'\" % (self.data))\n\u001b[1;32m   1304\u001b[0m         \u001b[0mmd\u001b[0m \u001b[0;34m=\u001b[0m \u001b[0;34m{\u001b[0m\u001b[0;34m}\u001b[0m\u001b[0;34m\u001b[0m\u001b[0;34m\u001b[0m\u001b[0m\n",
            "\u001b[0;31mFileNotFoundError\u001b[0m: No such file or directory: '/Users/calvingayeii/Library/CloudStorage/OneDrive-Personal/Lecture2024/LinearAlgebraPYTHON/googleColabs/p.png'"
          ]
        },
        {
          "output_type": "execute_result",
          "data": {
            "text/plain": [
              "<IPython.core.display.Image object>"
            ]
          },
          "metadata": {},
          "execution_count": 36
        }
      ],
      "source": [
        "from IPython import display\n",
        "display.Image(\"/Users/calvingayeii/Library/CloudStorage/OneDrive-Personal/Lecture2024/LinearAlgebraPYTHON/googleColabs/p.png\")"
      ]
    },
    {
      "cell_type": "markdown",
      "id": "9fefc40b",
      "metadata": {
        "id": "9fefc40b"
      },
      "source": [
        "Square brackets are used to access string elements. For\n",
        "instance:"
      ]
    },
    {
      "cell_type": "code",
      "execution_count": 37,
      "id": "bab6caea",
      "metadata": {
        "id": "bab6caea",
        "outputId": "299619cd-6258-42c7-b46b-60b107e07716",
        "colab": {
          "base_uri": "https://localhost:8080/"
        }
      },
      "outputs": [
        {
          "output_type": "stream",
          "name": "stdout",
          "text": [
            "T\n"
          ]
        }
      ],
      "source": [
        "x = \"This is a test string\"\n",
        "print(x[0])"
      ]
    },
    {
      "cell_type": "code",
      "execution_count": 38,
      "id": "d7ee95db",
      "metadata": {
        "id": "d7ee95db",
        "outputId": "302b1652-8685-42c6-c3e3-283c8ac4491a",
        "colab": {
          "base_uri": "https://localhost:8080/"
        }
      },
      "outputs": [
        {
          "output_type": "stream",
          "name": "stdout",
          "text": [
            "g\n"
          ]
        }
      ],
      "source": [
        "print(x[-1])"
      ]
    },
    {
      "cell_type": "markdown",
      "id": "d178025a",
      "metadata": {
        "id": "d178025a"
      },
      "source": [
        "A substring can be extracted from a string using indexing. This process is known as **string slicing**. If x is a string, an expression of the form x[i1:i2] returns the x from position i1 to just before i2. A range of indices is specified to access multiple characters of a string."
      ]
    },
    {
      "cell_type": "code",
      "execution_count": 39,
      "id": "3c5e70c2",
      "metadata": {
        "id": "3c5e70c2",
        "outputId": "6ad293e6-31a3-4f5a-b483-ab86007a3eb4",
        "colab": {
          "base_uri": "https://localhost:8080/"
        }
      },
      "outputs": [
        {
          "output_type": "stream",
          "name": "stdout",
          "text": [
            "This is a\n"
          ]
        }
      ],
      "source": [
        "print(x[0:9])"
      ]
    },
    {
      "cell_type": "markdown",
      "id": "95127f08",
      "metadata": {
        "id": "95127f08"
      },
      "source": [
        "The characters of x from index 0 to 8 are returned by the aforementioned statement. The index 9 is not included. To get string characters from a specific index to the last index, we\n",
        "may type the following statement."
      ]
    },
    {
      "cell_type": "code",
      "execution_count": 40,
      "id": "76edcb32",
      "metadata": {
        "id": "76edcb32",
        "outputId": "791bbdd7-727f-4f34-a90b-339e9087d1c3",
        "colab": {
          "base_uri": "https://localhost:8080/"
        }
      },
      "outputs": [
        {
          "output_type": "stream",
          "name": "stdout",
          "text": [
            "a test string\n"
          ]
        }
      ],
      "source": [
        "print(x[8:len(x)])"
      ]
    },
    {
      "cell_type": "markdown",
      "id": "ff80365f",
      "metadata": {
        "id": "ff80365f"
      },
      "source": [
        "If we want to get every kth character in the string, we specify a **stride** or a **step** in the string indexing. A stride or a step specifies the size of the step between string characters. A\n",
        "stride is set if we add an additional colon in string indexing. For example, to retrieve every second character of the string x starting from index 1 to index 11, we specify a step of 2 as\n",
        "follows:"
      ]
    },
    {
      "cell_type": "code",
      "execution_count": 41,
      "id": "e0fe47bb",
      "metadata": {
        "id": "e0fe47bb",
        "outputId": "29dd0991-120c-4caa-e68b-ab2188e4ce79",
        "colab": {
          "base_uri": "https://localhost:8080/",
          "height": 35
        }
      },
      "outputs": [
        {
          "output_type": "execute_result",
          "data": {
            "text/plain": [
              "'hsi  e'"
            ],
            "application/vnd.google.colaboratory.intrinsic+json": {
              "type": "string"
            }
          },
          "metadata": {},
          "execution_count": 41
        }
      ],
      "source": [
        "x = \"This is a test string\"\n",
        "x[1:12:2]"
      ]
    },
    {
      "cell_type": "code",
      "execution_count": 42,
      "id": "47516e9d",
      "metadata": {
        "id": "47516e9d",
        "outputId": "c18cc6d8-7ef3-4f7e-9f7a-b26ca029663b",
        "colab": {
          "base_uri": "https://localhost:8080/",
          "height": 35
        }
      },
      "outputs": [
        {
          "output_type": "execute_result",
          "data": {
            "text/plain": [
              "'git stas i'"
            ],
            "application/vnd.google.colaboratory.intrinsic+json": {
              "type": "string"
            }
          },
          "metadata": {},
          "execution_count": 42
        }
      ],
      "source": [
        "x = \"This is a test string\"\n",
        "x[:0:-2]"
      ]
    },
    {
      "cell_type": "markdown",
      "id": "57eb872d",
      "metadata": {
        "id": "57eb872d"
      },
      "source": [
        "Note that the first character of string x, T, is not displayed because we have specified a range of indices from end to 1 (index 0 is not included). We get a different output when we write the following script."
      ]
    },
    {
      "cell_type": "code",
      "execution_count": 43,
      "id": "26146fb4",
      "metadata": {
        "id": "26146fb4",
        "outputId": "1b9f7e16-d319-45eb-cd8c-896583f6d60f",
        "colab": {
          "base_uri": "https://localhost:8080/",
          "height": 35
        }
      },
      "outputs": [
        {
          "output_type": "execute_result",
          "data": {
            "text/plain": [
              "'git stas iT'"
            ],
            "application/vnd.google.colaboratory.intrinsic+json": {
              "type": "string"
            }
          },
          "metadata": {},
          "execution_count": 43
        }
      ],
      "source": [
        "x = \"This is a test string\"\n",
        "x[::-2]"
      ]
    },
    {
      "cell_type": "markdown",
      "id": "2b6114f8",
      "metadata": {
        "id": "2b6114f8"
      },
      "source": [
        "To replicate a string multiple times, we use the operator *. To generate five copies of the string ‘Hello,’ type:"
      ]
    },
    {
      "cell_type": "code",
      "execution_count": 44,
      "id": "ccfb66ff",
      "metadata": {
        "id": "ccfb66ff",
        "outputId": "a8974bd2-3c5d-4876-a087-6ef83cf8d161",
        "colab": {
          "base_uri": "https://localhost:8080/"
        }
      },
      "outputs": [
        {
          "output_type": "stream",
          "name": "stdout",
          "text": [
            "Hello Hello Hello Hello Hello \n"
          ]
        }
      ],
      "source": [
        "str = 'Hello ' * 5\n",
        "print(str)"
      ]
    },
    {
      "cell_type": "markdown",
      "id": "c184dd1a",
      "metadata": {
        "id": "c184dd1a"
      },
      "source": [
        "In Python, strings can be manipulated using numerous builtin methods (functions). The method **strip( )** eradicates any whitespace from the beginning or the end of a string."
      ]
    },
    {
      "cell_type": "code",
      "execution_count": 45,
      "id": "bff369b0",
      "metadata": {
        "id": "bff369b0",
        "outputId": "58635bfb-17aa-4888-847a-cc9853f77b25",
        "colab": {
          "base_uri": "https://localhost:8080/"
        }
      },
      "outputs": [
        {
          "output_type": "stream",
          "name": "stdout",
          "text": [
            "This is a test string\n"
          ]
        }
      ],
      "source": [
        "str1 = \"        This is a test string\"\n",
        "print(str1.strip())"
      ]
    },
    {
      "cell_type": "markdown",
      "id": "3e914e06",
      "metadata": {
        "id": "3e914e06"
      },
      "source": [
        "To convert a string to lower case, we use the method **lower( )**."
      ]
    },
    {
      "cell_type": "code",
      "execution_count": 46,
      "id": "d907b488",
      "metadata": {
        "id": "d907b488",
        "outputId": "c6476920-7590-4102-f18f-57d6d9e6920f",
        "colab": {
          "base_uri": "https://localhost:8080/"
        }
      },
      "outputs": [
        {
          "output_type": "stream",
          "name": "stdout",
          "text": [
            "this is a text string\n"
          ]
        }
      ],
      "source": [
        "str2 = \"This is a text string\"\n",
        "print(str2.lower())"
      ]
    },
    {
      "cell_type": "markdown",
      "id": "dde72d8a",
      "metadata": {
        "id": "dde72d8a"
      },
      "source": [
        "To convert a string to upper case, we use the method **upper( )**."
      ]
    },
    {
      "cell_type": "code",
      "execution_count": 47,
      "id": "4c28d10b",
      "metadata": {
        "id": "4c28d10b",
        "outputId": "1d9dc809-ed31-4761-f591-8e6f2526b320",
        "colab": {
          "base_uri": "https://localhost:8080/"
        }
      },
      "outputs": [
        {
          "output_type": "stream",
          "name": "stdout",
          "text": [
            "THIS IS A TEXT STRING\n"
          ]
        }
      ],
      "source": [
        "str3 = \"This is a text string\"\n",
        "print(str3.upper())"
      ]
    },
    {
      "cell_type": "markdown",
      "id": "717f71b8",
      "metadata": {
        "id": "717f71b8"
      },
      "source": [
        "To replace the characters of a string, we use the method **replace( )**."
      ]
    },
    {
      "cell_type": "code",
      "execution_count": 48,
      "id": "35aa339b",
      "metadata": {
        "id": "35aa339b",
        "outputId": "05626cce-98f0-4316-ef48-61026a884da9",
        "colab": {
          "base_uri": "https://localhost:8080/"
        }
      },
      "outputs": [
        {
          "output_type": "stream",
          "name": "stdout",
          "text": [
            "I ate a mango\n"
          ]
        }
      ],
      "source": [
        "str4 = \"I ate a banana\"\n",
        "print(str4.replace(\"banana\", \"mango\"))"
      ]
    },
    {
      "cell_type": "markdown",
      "id": "0d9813de",
      "metadata": {
        "id": "0d9813de"
      },
      "source": [
        "To break a string into smaller strings, we use the method **split( )** along with a specified separator."
      ]
    },
    {
      "cell_type": "code",
      "execution_count": 49,
      "id": "22a85d82",
      "metadata": {
        "id": "22a85d82",
        "outputId": "cd665c2e-1951-42c9-9a90-11107d7decb7",
        "colab": {
          "base_uri": "https://localhost:8080/"
        }
      },
      "outputs": [
        {
          "output_type": "stream",
          "name": "stdout",
          "text": [
            "['Hi mate', ' how do you do?']\n"
          ]
        }
      ],
      "source": [
        "str5 = 'Hi mate, how do you do?'\n",
        "print(str5.split(\",\"))"
      ]
    },
    {
      "cell_type": "markdown",
      "id": "997e5711",
      "metadata": {
        "id": "997e5711"
      },
      "source": [
        "In the aforementioned code, we have used a comma as a separator. Other characters can also be specified to serve as separators."
      ]
    },
    {
      "cell_type": "markdown",
      "id": "49cf1de1",
      "metadata": {
        "id": "49cf1de1"
      },
      "source": [
        "## **1.3 Conditional Statements and Iterations**"
      ]
    },
    {
      "cell_type": "markdown",
      "id": "9f3dbbd4",
      "metadata": {
        "id": "9f3dbbd4"
      },
      "source": [
        "Conditional statements are used when we need to make decisions in our program. A block of code is executed only if a certain condition is satisfied, and a different piece of code is run otherwise. Conditional statements provided by Python are:\n",
        "\n",
        " 1. if,\n",
        " 2. elif, and\n",
        " 3. else\n",
        "\n",
        "\n",
        " **`If`** statements can be used standalone, but **`elif`** and **`else`** statements are always accompanied by a corresponding if statement. We give the details and usage of these statements in the following sections."
      ]
    },
    {
      "cell_type": "markdown",
      "id": "3b0310bb",
      "metadata": {
        "id": "3b0310bb"
      },
      "source": [
        "### **1.3.1 If, Elif, and Else Statements**"
      ]
    },
    {
      "cell_type": "markdown",
      "id": "15c112dc",
      "metadata": {
        "id": "15c112dc"
      },
      "source": [
        "### **if(condition)**"
      ]
    },
    {
      "cell_type": "code",
      "execution_count": 50,
      "id": "6deef0e7",
      "metadata": {
        "id": "6deef0e7",
        "outputId": "4127355a-43e0-4a53-c351-27a2e1464791",
        "colab": {
          "base_uri": "https://localhost:8080/"
        }
      },
      "outputs": [
        {
          "output_type": "stream",
          "name": "stdout",
          "text": [
            "Marks could be 90.\n"
          ]
        }
      ],
      "source": [
        "student_marks = 90\n",
        "if(student_marks > 70):\n",
        "    print(\"Marks could be 90.\")\n"
      ]
    },
    {
      "cell_type": "code",
      "execution_count": 51,
      "id": "d49fa64c",
      "metadata": {
        "id": "d49fa64c",
        "outputId": "ba2b4d0d-0a8d-42be-ef23-fdab285ea677",
        "colab": {
          "base_uri": "https://localhost:8080/"
        }
      },
      "outputs": [
        {
          "name": "stdout",
          "output_type": "stream",
          "text": [
            "Enter marks obtained by a student:\n",
            "56\n"
          ]
        }
      ],
      "source": [
        "print('Enter marks obtained by a student:')\n",
        "student_marks = int(input())\n",
        "if(student_marks > 100):\n",
        "    print(\"Marks exceed 100.\")"
      ]
    },
    {
      "cell_type": "markdown",
      "id": "4f4c3219",
      "metadata": {
        "id": "4f4c3219"
      },
      "source": [
        "### **else Statement**"
      ]
    },
    {
      "cell_type": "markdown",
      "id": "26293340",
      "metadata": {
        "id": "26293340"
      },
      "source": [
        "The statement **else** is always accompanied by an accompanying if statement, i.e., **if-else.** The syntax of if-else is given below\n",
        "\n",
        "\n",
        "`if(condition):`\n",
        "\n",
        "\n",
        "Indented statement(s) when the condition is True\n",
        "\n",
        "\n",
        "`else:`\n",
        "\n",
        "\n",
        "Indented statement(s) when the condition is False\n",
        "In our previous examples on student marks, let us display the message “Outstanding” if student_marks are 80 or greater. A message “Not outstanding” is displayed otherwise."
      ]
    },
    {
      "cell_type": "code",
      "execution_count": 52,
      "id": "22daa10e",
      "metadata": {
        "id": "22daa10e",
        "outputId": "379d32db-0d65-417d-80d3-bb1e6c79620e",
        "colab": {
          "base_uri": "https://localhost:8080/"
        }
      },
      "outputs": [
        {
          "output_type": "stream",
          "name": "stdout",
          "text": [
            "Input marks of a student\n",
            "67\n",
            "Not outstanding\n"
          ]
        }
      ],
      "source": [
        "print('Input marks of a student')\n",
        "student_marks = int(input())\n",
        "if(student_marks >= 80):\n",
        "    print(\"Outstanding\")\n",
        "else:\n",
        "    print(\"Not outstanding\")"
      ]
    },
    {
      "cell_type": "markdown",
      "id": "95cad0e8",
      "metadata": {
        "id": "95cad0e8"
      },
      "source": [
        "### **Nested Decisions**"
      ]
    },
    {
      "cell_type": "markdown",
      "id": "308e580f",
      "metadata": {
        "id": "308e580f"
      },
      "source": [
        "To make decisions under multiple conditions, Python allows us to perform nested decisions. The **`if-elif-else`** statements are employed to accomplish nested decisions. Continuing\n",
        "with the example of student marks, if the marks of a student are greater than 100 or less than 0, a warning should be displayed. Additionally, if the obtained marks are 80 or greater, Outstanding should be displayed. Otherwise, Not outstanding should be displayed."
      ]
    },
    {
      "cell_type": "code",
      "execution_count": 53,
      "id": "525aa1b5",
      "metadata": {
        "id": "525aa1b5",
        "outputId": "50ffbfed-ddb3-4167-e232-bd7e3f18ead4",
        "colab": {
          "base_uri": "https://localhost:8080/"
        }
      },
      "outputs": [
        {
          "output_type": "stream",
          "name": "stdout",
          "text": [
            "Enter marks of a student\n",
            "87\n",
            "Outstanding\n"
          ]
        }
      ],
      "source": [
        "print('Enter marks of a student')\n",
        "student_marks = int(input())\n",
        "if(student_marks > 100 or student_marks < 0):\n",
        "    print(\"Invalid marks.\")\n",
        "elif(student_marks >= 80):\n",
        "    print(\"Outstanding\")\n",
        "else:\n",
        "    print(\"Not outstanding\")"
      ]
    },
    {
      "cell_type": "markdown",
      "id": "130ba706",
      "metadata": {
        "id": "130ba706"
      },
      "source": [
        "Note that we have used a logical operator **`or`** to combine two conditions together inside the if statement."
      ]
    },
    {
      "cell_type": "markdown",
      "id": "7d35db43",
      "metadata": {
        "id": "7d35db43"
      },
      "source": [
        "[Further Reading on conditional statements](https://www.techbeamers.com/python-if-else/)"
      ]
    },
    {
      "cell_type": "markdown",
      "id": "fe27810d",
      "metadata": {
        "id": "fe27810d"
      },
      "source": [
        "### **1.3.2 For Loop**"
      ]
    },
    {
      "cell_type": "markdown",
      "id": "6b494614",
      "metadata": {
        "id": "6b494614"
      },
      "source": [
        "* Iteration statements provided to us by Python allow us to perform a task more than once.\n",
        "\n",
        "\n",
        "* A for loop is used to iterate a task a fixed number of times. For loop has a definite beginning and end.\n",
        "\n",
        "\n",
        "* We provide a sequence or a variable to the loop as an input that causes the loop to execute a fixed number of times. T\n",
        "\n",
        "\n",
        "* the syntax of a for loop is given as.\n",
        "\n",
        "\n",
        "`for loop_variable in sequence:`"
      ]
    },
    {
      "cell_type": "code",
      "execution_count": 54,
      "id": "RgeHaB_1sC5X",
      "metadata": {
        "colab": {
          "base_uri": "https://localhost:8080/"
        },
        "id": "RgeHaB_1sC5X",
        "outputId": "7a5f5996-897c-49fc-8ecc-01b0aa247b15"
      },
      "outputs": [
        {
          "output_type": "stream",
          "name": "stdout",
          "text": [
            "Probability\n",
            "Statistics\n",
            "Machine Learning\n",
            "Data Science\n",
            "Artificial Intelligence\n"
          ]
        }
      ],
      "source": [
        "subjects = ['Probability', 'Statistics', 'Machine Learning',\n",
        "            'Data Science', 'Artificial Intelligence']\n",
        "\n",
        "for k in subjects:\n",
        "  print(k)"
      ]
    },
    {
      "cell_type": "markdown",
      "id": "AeRdHPYktbzd",
      "metadata": {
        "id": "AeRdHPYktbzd"
      },
      "source": [
        "In this example, \"subjects\"  is a variable containing five items.\n",
        "This is used to decide the number of iterations of a for loop.\n",
        "The loop runs five times because the number of items in the\n",
        "variable subjects is five."
      ]
    },
    {
      "cell_type": "markdown",
      "id": "ukqBjH9Ntx1W",
      "metadata": {
        "id": "ukqBjH9Ntx1W"
      },
      "source": [
        "* The function `range()` is normally used in a for loop to generate\n",
        "a sequence of numbers.\n",
        "\n",
        "* For example, `range(5)` generates numbers from 0 to 4 (five numbers). The following code generates the first five numbers."
      ]
    },
    {
      "cell_type": "code",
      "execution_count": 55,
      "id": "MWjzWo3jvG-2",
      "metadata": {
        "colab": {
          "base_uri": "https://localhost:8080/"
        },
        "id": "MWjzWo3jvG-2",
        "outputId": "3511d07a-8090-43bb-b2a5-a556df7223b3",
        "scrolled": true
      },
      "outputs": [
        {
          "output_type": "stream",
          "name": "stdout",
          "text": [
            "0\n",
            "1\n",
            "2\n",
            "3\n",
            "4\n"
          ]
        }
      ],
      "source": [
        "for k in range(5):\n",
        "  print(k)"
      ]
    },
    {
      "cell_type": "markdown",
      "id": "b9fc5228",
      "metadata": {
        "id": "b9fc5228"
      },
      "source": [
        "* We can also specify a step size other than 1 within the `range() function` as follows:"
      ]
    },
    {
      "cell_type": "code",
      "execution_count": 56,
      "id": "969deb6e",
      "metadata": {
        "id": "969deb6e",
        "outputId": "35a1dc20-95f1-45f6-bafe-7e73a971e9c3",
        "colab": {
          "base_uri": "https://localhost:8080/"
        }
      },
      "outputs": [
        {
          "output_type": "stream",
          "name": "stdout",
          "text": [
            "3\n",
            "6\n",
            "9\n",
            "12\n",
            "15\n",
            "18\n",
            "21\n",
            "24\n",
            "27\n",
            "30\n",
            "33\n",
            "36\n"
          ]
        }
      ],
      "source": [
        "for x in range(3, 39, 3):\n",
        "    print(x)"
      ]
    },
    {
      "cell_type": "markdown",
      "id": "33c33943",
      "metadata": {
        "id": "33c33943"
      },
      "source": [
        "* In `range(3, 12, 3)`, 3 is the step size. The statements **break** and **continue** are sometimes used inside the loops.\n",
        "\n",
        "* The **break statement** discontinues the execution of the loop.\n",
        "\n",
        "* The **continue statement** skips all the statements of the for loop following the continue statement.\n",
        "\n",
        "* The usage of both statements is illustrated in the following example."
      ]
    },
    {
      "cell_type": "code",
      "execution_count": 57,
      "id": "2903bbe7",
      "metadata": {
        "id": "2903bbe7",
        "outputId": "f8a3e575-6670-4e41-eaca-d535b041fdb9",
        "colab": {
          "base_uri": "https://localhost:8080/"
        }
      },
      "outputs": [
        {
          "output_type": "stream",
          "name": "stdout",
          "text": [
            "Adam\n",
            "Alice\n",
            "Emma\n"
          ]
        }
      ],
      "source": [
        "students = ['Adam', 'Alice', 'Bob', 'Emma', 'Julia']\n",
        "\n",
        "for k in students:\n",
        "    if k == 'Bob':\n",
        "        continue\n",
        "    print(k)\n",
        "    if k == 'Emma':\n",
        "        break"
      ]
    },
    {
      "cell_type": "markdown",
      "id": "85d48dea",
      "metadata": {
        "id": "85d48dea"
      },
      "source": [
        "* The name Bob is not printed in the output because the continue statement is executed when the value of k equals Bob.\n",
        "\n",
        "Note that `print(k)` statement is not indented with the if statement. Thus, it is not part of the if statement. Moreover, the code breaks right after it has printed the name, Emma."
      ]
    },
    {
      "cell_type": "markdown",
      "id": "54a640c7",
      "metadata": {
        "id": "54a640c7"
      },
      "source": [
        "### **1.3.3 While Loop**"
      ]
    },
    {
      "cell_type": "markdown",
      "id": "4dca0551",
      "metadata": {
        "id": "4dca0551"
      },
      "source": [
        "* The **`while`** loop iteratively runs certain statements until its condition is fulfilled. The syntax of the while loop is given below.\n",
        "\n",
        "\n",
        "* while (condition):\n",
        "    \n",
        "       Statement(s) to be executed in the while loop\n",
        "       \n",
        "       \n",
        "* For instance, to add natural numbers up to the number input by a user, we use a while loop as follows:"
      ]
    },
    {
      "cell_type": "code",
      "execution_count": 58,
      "id": "d75c7ac2",
      "metadata": {
        "id": "d75c7ac2",
        "outputId": "27611a1a-6a92-4a2e-d26d-b524515a11bd",
        "colab": {
          "base_uri": "https://localhost:8080/"
        }
      },
      "outputs": [
        {
          "output_type": "stream",
          "name": "stdout",
          "text": [
            "Input an integer = 87\n",
            "First 87 natural numbers add up to 3828\n"
          ]
        }
      ],
      "source": [
        "# This program finds the sum of the first\n",
        "# n natural numbers, where the value of n is\n",
        "# input by the user\n",
        "\n",
        "n = int(input(\"Input an integer = \"))\n",
        "\n",
        "# initialixe variables sum and j (counter)\n",
        "\n",
        "sum = 0\n",
        "j = 1\n",
        "while j <= n:\n",
        "    sum = sum + j\n",
        "    j = j+1   # update the counter variable\n",
        "print(\"First\", n, \"natural numbers add up to\",\n",
        "      sum)"
      ]
    },
    {
      "cell_type": "markdown",
      "id": "74178147",
      "metadata": {
        "id": "74178147"
      },
      "source": [
        "* The user of this program is asked to input a natural number upon execution of this program.\n",
        "\n",
        "* A sum of 10 is obtained if the number 4 is entered, and a sum of 55 is returned upon entering the number 10.\n",
        "\n",
        "* The **`while loop`** allows us to use the `break`, `continue`, and `else` statements inside a while loop like a **`for` loop.**"
      ]
    },
    {
      "cell_type": "markdown",
      "id": "3ea22b51",
      "metadata": {
        "id": "3ea22b51"
      },
      "source": [
        "#### **Nested Loop**"
      ]
    },
    {
      "cell_type": "markdown",
      "id": "c4259d21",
      "metadata": {
        "id": "c4259d21"
      },
      "source": [
        "A `loop`, either **`for`** or **`while`** can be used inside another loop. This is known as **nested loops** that can be used when we work with the data in two-dimensions.\n",
        "\n",
        "* The following program uses two for loops, one nested inside another, to print all the combinations of two variables."
      ]
    },
    {
      "cell_type": "code",
      "execution_count": 59,
      "id": "38595092",
      "metadata": {
        "id": "38595092",
        "outputId": "8957d72d-c8f3-43ee-8d2c-db7dbfa8482b",
        "colab": {
          "base_uri": "https://localhost:8080/"
        }
      },
      "outputs": [
        {
          "output_type": "stream",
          "name": "stdout",
          "text": [
            "heavy chair\n",
            "heavy table\n",
            "heavy computer\n",
            "wooden chair\n",
            "wooden table\n",
            "wooden computer\n",
            "fast chair\n",
            "fast table\n",
            "fast computer\n"
          ]
        }
      ],
      "source": [
        "attributes = [\"heavy\", \"wooden\", \"fast\"]\n",
        "objects = [\"chair\", \"table\", \"computer\"]\n",
        "for j in attributes:\n",
        "    for k in objects:\n",
        "        print(j, k)"
      ]
    },
    {
      "cell_type": "markdown",
      "id": "7a9a1433",
      "metadata": {
        "id": "7a9a1433"
      },
      "source": [
        "## **1.4 Functions in Python**"
      ]
    },
    {
      "cell_type": "markdown",
      "id": "bc28457d",
      "metadata": {
        "id": "bc28457d"
      },
      "source": [
        "* A function is defined as a piece of code that is used to perform a specific task.\n",
        "\n",
        "\n",
        "* Functions execute when they are called by their names.\n",
        "\n",
        "\n",
        "* Python permits us to define/create functions using the keyword **`def`**.\n",
        "\n",
        "\n",
        "* For instance, to define a function named my_function1, we write the following code:"
      ]
    },
    {
      "cell_type": "code",
      "execution_count": 60,
      "id": "d6bbef28",
      "metadata": {
        "id": "d6bbef28"
      },
      "outputs": [],
      "source": [
        "def my_function1():\n",
        "    print(\"This is a test function\")"
      ]
    },
    {
      "cell_type": "markdown",
      "id": "6886a42c",
      "metadata": {
        "id": "6886a42c"
      },
      "source": [
        "To run this function, we type its name."
      ]
    },
    {
      "cell_type": "code",
      "execution_count": 61,
      "id": "193b5329",
      "metadata": {
        "id": "193b5329",
        "outputId": "9722ebb0-8b08-4922-9e00-a747d6b4ecf9",
        "colab": {
          "base_uri": "https://localhost:8080/"
        }
      },
      "outputs": [
        {
          "output_type": "stream",
          "name": "stdout",
          "text": [
            "This is a test function\n"
          ]
        }
      ],
      "source": [
        "my_function1()"
      ]
    },
    {
      "cell_type": "markdown",
      "id": "a32156d3",
      "metadata": {
        "id": "a32156d3"
      },
      "source": [
        "A **`function`** can accept one or more inputs by passing parameters or arguments inside the parentheses ( ).\n",
        "\n",
        "* For instance, the following function accepts a  string as its input."
      ]
    },
    {
      "cell_type": "code",
      "execution_count": 62,
      "id": "7f48ae63",
      "metadata": {
        "id": "7f48ae63",
        "outputId": "86206c03-ea02-4c96-8891-17e086ce6add",
        "colab": {
          "base_uri": "https://localhost:8080/"
        }
      },
      "outputs": [
        {
          "output_type": "stream",
          "name": "stdout",
          "text": [
            "This function prints input that is computer\n",
            "This function prints input that is table\n",
            "This function prints input that is chair\n"
          ]
        }
      ],
      "source": [
        "def my_function2(str_in):\n",
        "    print(\"This function prints input that is \" +\n",
        "          str_in)\n",
        "\n",
        "my_function2(\"computer\")\n",
        "my_function2(\"table\")\n",
        "my_function2(\"chair\")"
      ]
    },
    {
      "cell_type": "markdown",
      "id": "3050b6c5",
      "metadata": {
        "id": "3050b6c5"
      },
      "source": [
        "* If a **`*`** is added before the parameter name while defining the function, an input of variable size can be passed as input / argument to the function. Thus, the function is able to receive multiple inputs.\n",
        "\n",
        "\n",
        "* The following function elaborates on this idea."
      ]
    },
    {
      "cell_type": "code",
      "execution_count": 63,
      "id": "fd8a3806",
      "metadata": {
        "id": "fd8a3806",
        "outputId": "7ca9a672-499f-4564-c849-0bf9ee871370",
        "colab": {
          "base_uri": "https://localhost:8080/"
        }
      },
      "outputs": [
        {
          "output_type": "stream",
          "name": "stdout",
          "text": [
            "Apple is my favorite fruit.\n"
          ]
        }
      ],
      "source": [
        "def my_function3(*myfruits):\n",
        "    print(myfruits[1], \"is my favorite fruit.\")\n",
        "my_function3(\"Mango\", \"Apple\", \"Orange\")  # 3 inputs."
      ]
    },
    {
      "cell_type": "code",
      "execution_count": 64,
      "id": "b14a0263",
      "metadata": {
        "id": "b14a0263",
        "outputId": "bfa497f2-22de-4435-ad6b-185db22b4e62",
        "colab": {
          "base_uri": "https://localhost:8080/"
        }
      },
      "outputs": [
        {
          "output_type": "stream",
          "name": "stdout",
          "text": [
            "Orange is my favorite fruit.\n"
          ]
        }
      ],
      "source": [
        "my_function3(\"Mango\", \"Orange\", \"Apple\", \"Apricot\")\n",
        "# 4 inputs"
      ]
    },
    {
      "cell_type": "markdown",
      "id": "a5f22a48",
      "metadata": {
        "id": "a5f22a48"
      },
      "source": [
        "* Data can be returned from a function when we use the **`return`** statement as follows."
      ]
    },
    {
      "cell_type": "code",
      "execution_count": 65,
      "id": "1bc5cd9d",
      "metadata": {
        "id": "1bc5cd9d",
        "outputId": "2e23974d-c42f-4dfe-dab2-93e52b592f0d",
        "colab": {
          "base_uri": "https://localhost:8080/"
        }
      },
      "outputs": [
        {
          "output_type": "stream",
          "name": "stdout",
          "text": [
            "20\n",
            "-90\n",
            "1000\n"
          ]
        }
      ],
      "source": [
        "def mult_by_10(k):\n",
        "    return 10 * k\n",
        "print(mult_by_10(2))\n",
        "print(mult_by_10(-9))\n",
        "print(mult_by_10(100))"
      ]
    },
    {
      "cell_type": "markdown",
      "id": "4787c7fb",
      "metadata": {
        "id": "4787c7fb"
      },
      "source": [
        "* Python allows us to define a function without any name.\n",
        "\n",
        "* This is called a **lambda function** (anonymous function), which can receive multiple input arguments but has only one statement.\n",
        "\n",
        "\n",
        "* To define a lambda function, we use\n",
        "\n",
        "         lambda arguments : statement\n",
        "         \n",
        "* To illustrate the creation and use of a lambda function, we may type the following code:\n",
        "\n",
        "\n",
        "* The below lambda function subtracts 10 from each input number"
      ]
    },
    {
      "cell_type": "code",
      "execution_count": 66,
      "id": "cd88d1de",
      "metadata": {
        "id": "cd88d1de",
        "outputId": "1d29b5fb-1404-4c5c-8f89-f84b7e4673fe",
        "colab": {
          "base_uri": "https://localhost:8080/"
        }
      },
      "outputs": [
        {
          "output_type": "stream",
          "name": "stdout",
          "text": [
            "0\n",
            "-20\n",
            "10\n"
          ]
        }
      ],
      "source": [
        "x = lambda input_number: input_number - 10\n",
        "print(x(10))\n",
        "print(x(-10))\n",
        "print(x(20))"
      ]
    },
    {
      "cell_type": "markdown",
      "id": "c4513047",
      "metadata": {
        "id": "c4513047"
      },
      "source": [
        "## **1.5 Data Structures**"
      ]
    },
    {
      "cell_type": "markdown",
      "id": "edfece0c",
      "metadata": {
        "id": "edfece0c"
      },
      "source": [
        "In addition to commonly used data types **`int`**, **`float`**, and **`str`**, Python offers data types to store a collection of multiple entries from numbers, alphabets, alphanumeric, strings, and special characters.\n",
        "\n",
        "The four commonly used collection data types provided by Python are as follows.\n",
        "\n",
        "\n",
        "* **`List`** is a mutable and ordered collection that allows duplicate entries.\n",
        "\n",
        "\n",
        "* **`Tuple`** is an immutable and ordered collection that also allows duplicate entries.\n",
        "\n",
        "\n",
        "* **`Set`** is an unordered and unindexed collection that, like real sets, prohibits duplicate entries.\n",
        "\n",
        "\n",
        "* **`Dictionary`** is a mutable, unordered, and indexed collection of entries that prohibits duplicate entries.\n",
        "\n",
        "\n",
        "The following sections discuss these data types and their usages"
      ]
    },
    {
      "cell_type": "markdown",
      "id": "08ae195f",
      "metadata": {
        "id": "08ae195f"
      },
      "source": [
        "### **1.5.1 Lists**"
      ]
    },
    {
      "cell_type": "markdown",
      "id": "5dc97a14",
      "metadata": {
        "id": "5dc97a14"
      },
      "source": [
        "* A **`list`** is a mutable and ordered collection of elements.\n",
        "\n",
        "\n",
        "* **`Lists`** are specified using square brackets in Python. For instance, to create a list named item_list, type the following code:"
      ]
    },
    {
      "cell_type": "code",
      "execution_count": 67,
      "id": "4d99f003",
      "metadata": {
        "colab": {
          "base_uri": "https://localhost:8080/"
        },
        "id": "4d99f003",
        "outputId": "66b4153f-0379-40f8-cff7-f0f00f9c050c"
      },
      "outputs": [
        {
          "output_type": "stream",
          "name": "stdout",
          "text": [
            "['backpack', 'laptop', 'ballpoint', 'sunglasses']\n"
          ]
        }
      ],
      "source": [
        "item_list = [\"backpack\", \"laptop\", \"ballpoint\",\n",
        "            \"sunglasses\"]\n",
        "print(item_list)"
      ]
    },
    {
      "cell_type": "markdown",
      "id": "8563a306",
      "metadata": {
        "id": "8563a306"
      },
      "source": [
        "* To access any particular element/item of a list, we refer its index number.\n",
        "\n",
        "* For instance, to print the third item of the list, we type the following code:"
      ]
    },
    {
      "cell_type": "code",
      "execution_count": 68,
      "id": "e4cc2513",
      "metadata": {
        "id": "e4cc2513",
        "outputId": "ad7e4c8e-e0ea-469d-9ccf-09cff66fae6b",
        "colab": {
          "base_uri": "https://localhost:8080/"
        }
      },
      "outputs": [
        {
          "output_type": "stream",
          "name": "stdout",
          "text": [
            "ballpoint\n"
          ]
        }
      ],
      "source": [
        "print(item_list[2])"
      ]
    },
    {
      "cell_type": "code",
      "execution_count": 69,
      "id": "eb3ce704",
      "metadata": {
        "id": "eb3ce704",
        "colab": {
          "base_uri": "https://localhost:8080/"
        },
        "outputId": "f1a0a402-2dc4-4df8-b4fd-608cd41603b9"
      },
      "outputs": [
        {
          "output_type": "stream",
          "name": "stdout",
          "text": [
            "backpack\n"
          ]
        }
      ],
      "source": [
        "print(item_list[0])"
      ]
    },
    {
      "cell_type": "markdown",
      "id": "XSgIuV50UgBi",
      "metadata": {
        "id": "XSgIuV50UgBi"
      },
      "source": [
        "Since Python permits negative indexing, we can use them to\n",
        "access elements of a list.\n",
        "\n",
        "\n",
        "* As an example, the following piece\n",
        "of code prints the third last item of the list."
      ]
    },
    {
      "cell_type": "code",
      "execution_count": 70,
      "id": "C9gZXXdGUsjM",
      "metadata": {
        "colab": {
          "base_uri": "https://localhost:8080/"
        },
        "id": "C9gZXXdGUsjM",
        "outputId": "41b6c228-899f-4fac-dff6-16a499a3b8b9"
      },
      "outputs": [
        {
          "output_type": "stream",
          "name": "stdout",
          "text": [
            "laptop\n"
          ]
        }
      ],
      "source": [
        "item_list = [\"backpack\", \"laptop\", \"ballpoint\",\n",
        "             \"sunglasses\"]\n",
        "print(item_list[-3])"
      ]
    },
    {
      "cell_type": "markdown",
      "id": "4S6nUn74VlT7",
      "metadata": {
        "id": "4S6nUn74VlT7"
      },
      "source": [
        "To return the second and the third list items, we type the following code."
      ]
    },
    {
      "cell_type": "code",
      "execution_count": 71,
      "id": "EP9CpitLVn82",
      "metadata": {
        "colab": {
          "base_uri": "https://localhost:8080/"
        },
        "id": "EP9CpitLVn82",
        "outputId": "349a1b80-78c3-4688-a0d1-c4005f722b18"
      },
      "outputs": [
        {
          "output_type": "stream",
          "name": "stdout",
          "text": [
            "['laptop', 'ballpoint']\n"
          ]
        }
      ],
      "source": [
        "print(item_list[1:3]) # Elements at index 1 and 2\n",
        "                         #but not the one at 3"
      ]
    },
    {
      "cell_type": "markdown",
      "id": "hE57w8oBWTr_",
      "metadata": {
        "id": "hE57w8oBWTr_"
      },
      "source": [
        "Try the following, and observe the output:"
      ]
    },
    {
      "cell_type": "code",
      "execution_count": 72,
      "id": "59APCCZ8WSt3",
      "metadata": {
        "colab": {
          "base_uri": "https://localhost:8080/"
        },
        "id": "59APCCZ8WSt3",
        "outputId": "231d7701-4451-4b63-dbec-59ef9daab665"
      },
      "outputs": [
        {
          "output_type": "stream",
          "name": "stdout",
          "text": [
            "['backpack', 'laptop', 'ballpoint']\n",
            "['ballpoint', 'sunglasses']\n",
            "['laptop', 'ballpoint']\n"
          ]
        }
      ],
      "source": [
        "print(item_list[:3])\n",
        "\n",
        "\n",
        "print(item_list[2:])\n",
        "\n",
        "\n",
        "print(item_list[-3:-1])"
      ]
    },
    {
      "cell_type": "markdown",
      "id": "A8VlHYMPXBx9",
      "metadata": {
        "id": "A8VlHYMPXBx9"
      },
      "source": [
        "* The index of a specific element can be used to change the value of that element.\n",
        "\n",
        "\n",
        "* For instance, to change the second element of the `item_list`, type the following:"
      ]
    },
    {
      "cell_type": "code",
      "execution_count": 73,
      "id": "FsKYV_NWXMNc",
      "metadata": {
        "colab": {
          "base_uri": "https://localhost:8080/"
        },
        "id": "FsKYV_NWXMNc",
        "outputId": "75cfc5ca-8877-4fd2-9608-0c5b0eef81cb"
      },
      "outputs": [
        {
          "output_type": "stream",
          "name": "stdout",
          "text": [
            "['backpack', 'computer', 'ballpoint', 'sunglasses']\n"
          ]
        }
      ],
      "source": [
        "item_list[1] = \"computer\"\n",
        "print(item_list)"
      ]
    },
    {
      "cell_type": "markdown",
      "id": "JSbAosR6XpGI",
      "metadata": {
        "id": "JSbAosR6XpGI"
      },
      "source": [
        "* `Conditional` statements can be used with a list.\n",
        "\n",
        "\n",
        "* The elements of a list can be checked using an if statement and the keyword **`in`** as follows:"
      ]
    },
    {
      "cell_type": "code",
      "execution_count": 74,
      "id": "uOCeAQfbX-Cn",
      "metadata": {
        "colab": {
          "base_uri": "https://localhost:8080/"
        },
        "id": "uOCeAQfbX-Cn",
        "outputId": "d1b38a77-3a5b-41b4-e3b2-3b159642f05d"
      },
      "outputs": [
        {
          "output_type": "stream",
          "name": "stdout",
          "text": [
            "sugar is not present in the list\n"
          ]
        }
      ],
      "source": [
        "if \"sugar\" in item_list:\n",
        "  print(\"sugar is present in the list\")\n",
        "else:\n",
        "  print(\"sugar is not present in the list\")"
      ]
    },
    {
      "cell_type": "markdown",
      "id": "JwAJoRfJZTYG",
      "metadata": {
        "id": "JwAJoRfJZTYG"
      },
      "source": [
        "### **1.5.2 Tuples**"
      ]
    },
    {
      "cell_type": "markdown",
      "id": "CkrsVqFVZjlC",
      "metadata": {
        "id": "CkrsVqFVZjlC"
      },
      "source": [
        "* A **`tuple`** is immutable and ordered collection of items.\n",
        "\n",
        "* In Python, tuples are specified using round brackets or parentheses `()`. The following code creates a tuple:"
      ]
    },
    {
      "cell_type": "code",
      "execution_count": 75,
      "id": "3LlxDtoEaKo5",
      "metadata": {
        "colab": {
          "base_uri": "https://localhost:8080/"
        },
        "id": "3LlxDtoEaKo5",
        "outputId": "fa493623-cd0c-453e-ddf2-05fd60c6dcb7"
      },
      "outputs": [
        {
          "output_type": "stream",
          "name": "stdout",
          "text": [
            "('Python', 'for', 'statistics')\n"
          ]
        }
      ],
      "source": [
        "py_stat = (\"Python\", \"for\", \"statistics\")\n",
        "print(py_stat)"
      ]
    },
    {
      "cell_type": "markdown",
      "id": "fUmQy2BqajI7",
      "metadata": {
        "id": "fUmQy2BqajI7"
      },
      "source": [
        "Elements of a tuple can be accessed using `[ ]`. For instance:"
      ]
    },
    {
      "cell_type": "code",
      "execution_count": 76,
      "id": "MqEQqmxnas24",
      "metadata": {
        "colab": {
          "base_uri": "https://localhost:8080/"
        },
        "id": "MqEQqmxnas24",
        "outputId": "3e39430b-84e5-4b6f-a0ce-dad8f9145699"
      },
      "outputs": [
        {
          "output_type": "stream",
          "name": "stdout",
          "text": [
            "statistics\n"
          ]
        }
      ],
      "source": [
        "print(py_stat[2])"
      ]
    },
    {
      "cell_type": "markdown",
      "id": "WdTeXHeoa_LQ",
      "metadata": {
        "id": "WdTeXHeoa_LQ"
      },
      "source": [
        "* Similar to lists, we can use negative indexing and a range of indexing in `tuple`.\n",
        "\n",
        "* Since tuples are immutable, the values present in a tuple are not changed once it is created.\n",
        "\n",
        "* We can use loops to go through the elements of a tuple.\n",
        "\n",
        "* The keyword in can be used to determine if a specified element is present in a tuple.\n",
        "\n",
        "* The method **`len()`** finds out the number of items present in a tuple.\n",
        "\n",
        "* The + operator can be employed to join two or more tuples together.\n",
        "\n",
        "\n",
        "* To delete a tuple, use the statement **`delpy_stat`**.\n",
        "\n",
        "\n",
        "* The tuple method **`count()`** returns the number of times a particular value appears in a tuple."
      ]
    },
    {
      "cell_type": "code",
      "execution_count": 77,
      "id": "ApTP5PAKcorZ",
      "metadata": {
        "colab": {
          "base_uri": "https://localhost:8080/"
        },
        "id": "ApTP5PAKcorZ",
        "outputId": "953e9b96-6ecd-4b35-e169-f5b0f34cb740"
      },
      "outputs": [
        {
          "output_type": "stream",
          "name": "stdout",
          "text": [
            "0\n",
            "2\n"
          ]
        },
        {
          "output_type": "execute_result",
          "data": {
            "text/plain": [
              "4"
            ]
          },
          "metadata": {},
          "execution_count": 77
        }
      ],
      "source": [
        "py_stat2 = ('Python', 'has support for',\n",
        "            'statistics', 'Python')\n",
        "print(py_stat2.count('stat'))\n",
        "print(py_stat2.count('Python'))\n",
        "len(py_stat2)"
      ]
    },
    {
      "cell_type": "markdown",
      "id": "xDyrW7O5ed3r",
      "metadata": {
        "id": "xDyrW7O5ed3r"
      },
      "source": [
        "The tuple method **`index()`** is used to search the tuple for a\n",
        "particular value. It returns the position where the specified\n",
        "value is found. For example, type the following code:"
      ]
    },
    {
      "cell_type": "code",
      "execution_count": 79,
      "id": "DqCbTg9iexqH",
      "metadata": {
        "colab": {
          "base_uri": "https://localhost:8080/"
        },
        "id": "DqCbTg9iexqH",
        "outputId": "b1f65d15-a69a-44fd-f0f6-5399029b05b6"
      },
      "outputs": [
        {
          "output_type": "stream",
          "name": "stdout",
          "text": [
            "2\n",
            "0\n",
            "1\n"
          ]
        }
      ],
      "source": [
        "print(py_stat2.index('statistics'))\n",
        "print(py_stat2.index('Python'))\n",
        "print(py_stat2.index('has support for'))"
      ]
    },
    {
      "cell_type": "markdown",
      "id": "0ztGeZ5TgD9N",
      "metadata": {
        "id": "0ztGeZ5TgD9N"
      },
      "source": [
        "A ValueError is printed if the value to be indexed for does not exist in the tuple."
      ]
    },
    {
      "cell_type": "markdown",
      "id": "rY5cUWingP9e",
      "metadata": {
        "id": "rY5cUWingP9e"
      },
      "source": [
        "### **1.5.3 Sets**"
      ]
    },
    {
      "cell_type": "markdown",
      "id": "WwW0uKROgUi8",
      "metadata": {
        "id": "WwW0uKROgUi8"
      },
      "source": [
        "* A set is an unindexed and unordered collection of items.\n",
        "\n",
        "\n",
        "* Python specifies sets using curly brackets { }. For example,type the following code."
      ]
    },
    {
      "cell_type": "code",
      "execution_count": 80,
      "id": "_s0sEe9cGwZA",
      "metadata": {
        "colab": {
          "base_uri": "https://localhost:8080/"
        },
        "id": "_s0sEe9cGwZA",
        "outputId": "5d14cbee-f20f-4185-c549-39ad831cae35"
      },
      "outputs": [
        {
          "output_type": "stream",
          "name": "stdout",
          "text": [
            "{'tiger', 'dog', 'fox', 'cat'}\n"
          ]
        }
      ],
      "source": [
        "my_animals = {\"cat\", \"dog\", \"tiger\", \"fox\"}\n",
        "print(my_animals)"
      ]
    },
    {
      "cell_type": "markdown",
      "id": "Gdxjkq64HS6A",
      "metadata": {
        "id": "Gdxjkq64HS6A"
      },
      "source": [
        "* No index is linked to set items because sets are unordered.\n",
        "\n",
        "\n",
        "* Nevertheless, a loop can be used to go through the set elements.\n",
        "\n",
        "* The printed output follows no order. The keyword in is used to check if a particular value is present in a set."
      ]
    },
    {
      "cell_type": "code",
      "execution_count": 81,
      "id": "_Nx6HLmNHait",
      "metadata": {
        "colab": {
          "base_uri": "https://localhost:8080/"
        },
        "id": "_Nx6HLmNHait",
        "outputId": "b2e332aa-77a7-4fe3-94d2-b208795c1d92"
      },
      "outputs": [
        {
          "output_type": "stream",
          "name": "stdout",
          "text": [
            "tiger\n",
            "dog\n",
            "fox\n",
            "cat\n"
          ]
        }
      ],
      "source": [
        "for x in my_animals:\n",
        "  print(x)"
      ]
    },
    {
      "cell_type": "code",
      "execution_count": 82,
      "id": "-Fp1l_dKH7bY",
      "metadata": {
        "colab": {
          "base_uri": "https://localhost:8080/"
        },
        "id": "-Fp1l_dKH7bY",
        "outputId": "c2b587ad-b2a6-4f21-8acd-daa760b05eac"
      },
      "outputs": [
        {
          "output_type": "stream",
          "name": "stdout",
          "text": [
            "True\n",
            "False\n"
          ]
        }
      ],
      "source": [
        "print(\"tiger\" in my_animals)\n",
        "print(\"lion\" in my_animals)"
      ]
    },
    {
      "cell_type": "markdown",
      "id": "8vL2Eo_hIern",
      "metadata": {
        "id": "8vL2Eo_hIern"
      },
      "source": [
        "Once a set is created, its elements cannot be changed. But new elements can be added.\n",
        "\n",
        "* The method **add( )** adds a single\n",
        "element to a set."
      ]
    },
    {
      "cell_type": "code",
      "execution_count": 83,
      "id": "LZkPHhkuKwZt",
      "metadata": {
        "colab": {
          "base_uri": "https://localhost:8080/"
        },
        "id": "LZkPHhkuKwZt",
        "outputId": "8b28b811-fb3e-4b18-ec87-122a5caafe6a"
      },
      "outputs": [
        {
          "output_type": "stream",
          "name": "stdout",
          "text": [
            "{'tiger', 'dog', 'cat', 'fox', 'lion'}\n"
          ]
        }
      ],
      "source": [
        "my_animals = {\"cat\", \"dog\", \"tiger\", \"fox\"}\n",
        "my_animals.add(\"lion\")\n",
        "print(my_animals)"
      ]
    },
    {
      "cell_type": "markdown",
      "id": "4IiQgRoNLroN",
      "metadata": {
        "id": "4IiQgRoNLroN"
      },
      "source": [
        "The output of the aforementioned program displays items without any order.\n",
        "\n",
        "* The method **update( )** adds multiple elements to a set."
      ]
    },
    {
      "cell_type": "code",
      "execution_count": 84,
      "id": "Wv7G0HXUL0TI",
      "metadata": {
        "colab": {
          "base_uri": "https://localhost:8080/"
        },
        "id": "Wv7G0HXUL0TI",
        "outputId": "59170871-a920-466c-d99e-6776b0e06a97"
      },
      "outputs": [
        {
          "output_type": "stream",
          "name": "stdout",
          "text": [
            "{'tiger', 'dog', 'cat', 'goat', 'fox', 'sheep', 'lion'}\n"
          ]
        }
      ],
      "source": [
        "my_animals.update([\"sheep\", \"goat\", \"sheep\"])\n",
        "print(my_animals)"
      ]
    },
    {
      "cell_type": "markdown",
      "id": "BICc9d4aMlxz",
      "metadata": {
        "id": "BICc9d4aMlxz"
      },
      "source": [
        "The item `'sheep'` appears once in the output because sets do not allow duplicate entries.\n",
        "\n",
        "* To find the number of elements of a set, we use the method **len(my_animals)**."
      ]
    },
    {
      "cell_type": "code",
      "execution_count": 85,
      "id": "mmza_2-LNBWT",
      "metadata": {
        "colab": {
          "base_uri": "https://localhost:8080/"
        },
        "id": "mmza_2-LNBWT",
        "outputId": "360801e3-aed0-4563-f4e6-79fc62d83fde"
      },
      "outputs": [
        {
          "output_type": "execute_result",
          "data": {
            "text/plain": [
              "7"
            ]
          },
          "metadata": {},
          "execution_count": 85
        }
      ],
      "source": [
        "len(my_animals)"
      ]
    },
    {
      "cell_type": "markdown",
      "id": "XgZOB3LMNEbq",
      "metadata": {
        "id": "XgZOB3LMNEbq"
      },
      "source": [
        "To remove an element in a set, we use either the method **remove( )** or the method **discard( )**.\n",
        "\n",
        "* For instance, we remove `“tiger”` as follows:"
      ]
    },
    {
      "cell_type": "code",
      "execution_count": 86,
      "id": "NZe4FBddNh8R",
      "metadata": {
        "colab": {
          "base_uri": "https://localhost:8080/"
        },
        "id": "NZe4FBddNh8R",
        "outputId": "f746bbcb-cfe9-48cd-eec9-58f1ae860308"
      },
      "outputs": [
        {
          "output_type": "stream",
          "name": "stdout",
          "text": [
            "{'dog', 'fox', 'cat'}\n"
          ]
        }
      ],
      "source": [
        "my_animals = {\"cat\", \"dog\", \"tiger\", \"fox\"}\n",
        "my_animals.remove(\"tiger\")\n",
        "print(my_animals)"
      ]
    },
    {
      "cell_type": "code",
      "execution_count": 87,
      "id": "MGdeo-q81lRP",
      "metadata": {
        "colab": {
          "base_uri": "https://localhost:8080/"
        },
        "id": "MGdeo-q81lRP",
        "outputId": "aee4b90b-566d-42d7-b9d3-cb82c80db4e7"
      },
      "outputs": [
        {
          "output_type": "stream",
          "name": "stdout",
          "text": [
            "{'dog', 'fox'}\n"
          ]
        }
      ],
      "source": [
        "my_animals.discard(\"cat\")\n",
        "print(my_animals)"
      ]
    },
    {
      "cell_type": "markdown",
      "id": "sEGhIXHY1-TG",
      "metadata": {
        "id": "sEGhIXHY1-TG"
      },
      "source": [
        "* Two or more sets can be joined together using the method **`union()`**.\n",
        "\n",
        "\n",
        "* Alternatively, the method **`update()`** can be used\n",
        "to insert elements from one set into another.\n",
        "\n",
        "\n",
        "* Let us try the following code:"
      ]
    },
    {
      "cell_type": "code",
      "execution_count": 88,
      "id": "_YXwdfA32trC",
      "metadata": {
        "colab": {
          "base_uri": "https://localhost:8080/"
        },
        "id": "_YXwdfA32trC",
        "outputId": "b4dbd9d5-0418-462c-defb-7c4509a7a854"
      },
      "outputs": [
        {
          "output_type": "stream",
          "name": "stdout",
          "text": [
            "{'X', 'Y', 4, 5, 'Z', 6}\n"
          ]
        }
      ],
      "source": [
        "my_set1 = {\"X\", \"Y\", \"Z\"}\n",
        "my_set2 = {4, 5, 6}\n",
        "my_set3 = my_set1.union(my_set2)\n",
        "print(my_set3)"
      ]
    },
    {
      "cell_type": "code",
      "execution_count": 89,
      "id": "tldNLC_Z38j3",
      "metadata": {
        "colab": {
          "base_uri": "https://localhost:8080/"
        },
        "id": "tldNLC_Z38j3",
        "outputId": "19d23faa-7ded-4e20-ff3d-c89852462fea"
      },
      "outputs": [
        {
          "output_type": "stream",
          "name": "stdout",
          "text": [
            "{4, 5, 6, 'X', 'Y', 'R', 'Z', 'Q', 'P'}\n"
          ]
        }
      ],
      "source": [
        "my_set1.update(\"P\", \"Q\", \"R\")\n",
        "my_set4 = my_set2.union(my_set1)\n",
        "print(my_set4)\n"
      ]
    },
    {
      "cell_type": "markdown",
      "id": "9IJmcS8S5usH",
      "metadata": {
        "id": "9IJmcS8S5usH"
      },
      "source": [
        "* Moreover, the method **`pop( )`** removes the last item from a set.\n",
        "\n",
        "\n",
        "* The method **`clear ( )`** empties the set, and the keyword **`del`** before the name of the set deletes the set completely."
      ]
    },
    {
      "cell_type": "code",
      "execution_count": 90,
      "id": "LDsioQQF6Itb",
      "metadata": {
        "colab": {
          "base_uri": "https://localhost:8080/"
        },
        "id": "LDsioQQF6Itb",
        "outputId": "adb5eca8-f937-4cf2-fdfc-5b1d035ff675"
      },
      "outputs": [
        {
          "output_type": "stream",
          "name": "stdout",
          "text": [
            "X\n"
          ]
        }
      ],
      "source": [
        "my_set4 = my_set1.pop()\n",
        "print(my_set4)"
      ]
    },
    {
      "cell_type": "markdown",
      "id": "u--adMhCtcF0",
      "metadata": {
        "id": "u--adMhCtcF0"
      },
      "source": [
        "### **1.5.4 Dictionaries**"
      ]
    },
    {
      "cell_type": "markdown",
      "id": "hgLQdYWPuGEr",
      "metadata": {
        "id": "hgLQdYWPuGEr"
      },
      "source": [
        "* A dictionary is a mutable, unordered, and indexed collection of items.\n",
        "\n",
        "* A dictionary in Python has a key:value pair for each of its elements.\n",
        "\n",
        "* Dictionaries retrieve values when the keys are known. To create a dictionary, we use **`curly braces { }`**, and put key: value elements inside these braces where each pair is separated from others by commas.\n",
        "\n",
        "* For example, the following piece of code creates a dictionary named `py_stat_dict`."
      ]
    },
    {
      "cell_type": "code",
      "execution_count": 91,
      "id": "xNe-mBdEwBtP",
      "metadata": {
        "colab": {
          "base_uri": "https://localhost:8080/"
        },
        "id": "xNe-mBdEwBtP",
        "outputId": "c4ad7305-0e45-4189-9574-2bb6b6d8859f"
      },
      "outputs": [
        {
          "output_type": "stream",
          "name": "stdout",
          "text": [
            "{'name': 'Python', 'purpose': 'Statistics', 'year': 2020}\n"
          ]
        }
      ],
      "source": [
        "py_stat_dict = {\n",
        "    \"name\": \"Python\",\n",
        "    \"purpose\": \"Statistics\",\n",
        "    \"year\": 2020\n",
        "}\n",
        "print(py_stat_dict)"
      ]
    },
    {
      "cell_type": "markdown",
      "id": "my_67HDYzQP8",
      "metadata": {
        "id": "my_67HDYzQP8"
      },
      "source": [
        "* The dictionaries require the keys to be unique and immutable string, number, or tuple.\n",
        "\n",
        "* The values, on the other hand, can be of any data type and can repeat.\n",
        "\n",
        "* Square brackets are used to refer to a key name to access a specified value of a dictionary."
      ]
    },
    {
      "cell_type": "code",
      "execution_count": 92,
      "id": "FKQjW9wE0W7s",
      "metadata": {
        "colab": {
          "base_uri": "https://localhost:8080/"
        },
        "id": "FKQjW9wE0W7s",
        "outputId": "d4025a90-fde9-448c-bd02-3fdc7717e4a1"
      },
      "outputs": [
        {
          "output_type": "stream",
          "name": "stdout",
          "text": [
            "Python\n",
            "Statistics\n"
          ]
        }
      ],
      "source": [
        "print(py_stat_dict['name']) # accesses value for key 'name'\n",
        "print(py_stat_dict.get('purpose')) # accesses value for key 'purpose'"
      ]
    },
    {
      "cell_type": "markdown",
      "id": "kWk_khfs2ARS",
      "metadata": {
        "id": "kWk_khfs2ARS"
      },
      "source": [
        "A message: *`None`* is displayed if we try to access a non-existent key."
      ]
    },
    {
      "cell_type": "code",
      "execution_count": 93,
      "id": "mCloScWc2Hre",
      "metadata": {
        "colab": {
          "base_uri": "https://localhost:8080/"
        },
        "id": "mCloScWc2Hre",
        "outputId": "57f10656-b4e8-4cc7-a4bf-7e2915bc7f9e"
      },
      "outputs": [
        {
          "output_type": "stream",
          "name": "stdout",
          "text": [
            "None\n"
          ]
        }
      ],
      "source": [
        "print(py_stat_dict.get('address'))"
      ]
    },
    {
      "cell_type": "markdown",
      "id": "rgv-drmo5jYf",
      "metadata": {
        "id": "rgv-drmo5jYf"
      },
      "source": [
        "* We get the error: **`KeyError: 'address'`** to indicate that the key `'address'` does not exist, when we run print(py_stat_dict[`'address'`]).\n"
      ]
    },
    {
      "cell_type": "code",
      "execution_count": 95,
      "id": "ZsAwF36DCsng",
      "metadata": {
        "colab": {
          "base_uri": "https://localhost:8080/",
          "height": 180
        },
        "id": "ZsAwF36DCsng",
        "outputId": "ad439a51-bf5c-4b40-8ed5-fd3e366865e4"
      },
      "outputs": [
        {
          "output_type": "error",
          "ename": "KeyError",
          "evalue": "'address'",
          "traceback": [
            "\u001b[0;31m---------------------------------------------------------------------------\u001b[0m",
            "\u001b[0;31mKeyError\u001b[0m                                  Traceback (most recent call last)",
            "\u001b[0;32m<ipython-input-95-7420569dced3>\u001b[0m in \u001b[0;36m<cell line: 1>\u001b[0;34m()\u001b[0m\n\u001b[0;32m----> 1\u001b[0;31m \u001b[0mprint\u001b[0m\u001b[0;34m(\u001b[0m\u001b[0mpy_stat_dict\u001b[0m\u001b[0;34m[\u001b[0m\u001b[0;34m'address'\u001b[0m\u001b[0;34m]\u001b[0m\u001b[0;34m)\u001b[0m\u001b[0;34m\u001b[0m\u001b[0;34m\u001b[0m\u001b[0m\n\u001b[0m",
            "\u001b[0;31mKeyError\u001b[0m: 'address'"
          ]
        }
      ],
      "source": [
        "print(py_stat_dict['address'])"
      ]
    },
    {
      "cell_type": "markdown",
      "id": "6ZRDyngz9IAW",
      "metadata": {
        "id": "6ZRDyngz9IAW"
      },
      "source": [
        "* The value of an element can be changed by referring to its key, as shown below."
      ]
    },
    {
      "cell_type": "code",
      "execution_count": 96,
      "id": "aMneoe18ArQA",
      "metadata": {
        "colab": {
          "base_uri": "https://localhost:8080/"
        },
        "id": "aMneoe18ArQA",
        "outputId": "173e38b2-c288-4b19-c3a8-de69067182e2"
      },
      "outputs": [
        {
          "output_type": "execute_result",
          "data": {
            "text/plain": [
              "{'name': 'Python', 'purpose': 'Statistics', 'year': 2024}"
            ]
          },
          "metadata": {},
          "execution_count": 96
        }
      ],
      "source": [
        "py_stat_dict[\"year\"] = 2024\n",
        "py_stat_dict"
      ]
    },
    {
      "cell_type": "markdown",
      "id": "rXd5MSftGKj0",
      "metadata": {
        "id": "rXd5MSftGKj0"
      },
      "source": []
    },
    {
      "cell_type": "markdown",
      "id": "mE5f4WxkEO8l",
      "metadata": {
        "id": "mE5f4WxkEO8l"
      },
      "source": [
        "* A **`for loop`** can be used to go through a dictionary; it returns *`keys`* of the dictionary."
      ]
    },
    {
      "cell_type": "code",
      "execution_count": 97,
      "id": "cPq9nCrLFzKi",
      "metadata": {
        "colab": {
          "base_uri": "https://localhost:8080/"
        },
        "id": "cPq9nCrLFzKi",
        "outputId": "a3f6d390-d458-4d24-e32a-d6e5c62d7f01"
      },
      "outputs": [
        {
          "output_type": "stream",
          "name": "stdout",
          "text": [
            "name\n",
            "purpose\n",
            "year\n"
          ]
        }
      ],
      "source": [
        "for q in py_stat_dict:\n",
        "  print(q)"
      ]
    },
    {
      "cell_type": "markdown",
      "id": "Q2xXMgl0GVaB",
      "metadata": {
        "id": "Q2xXMgl0GVaB"
      },
      "source": [
        "The *`values`* can be returned as well."
      ]
    },
    {
      "cell_type": "code",
      "execution_count": 98,
      "id": "_Yk5Oi3pGhCC",
      "metadata": {
        "colab": {
          "base_uri": "https://localhost:8080/"
        },
        "id": "_Yk5Oi3pGhCC",
        "outputId": "8a1e02cc-83cb-4342-ef9f-9078d011ef47"
      },
      "outputs": [
        {
          "output_type": "stream",
          "name": "stdout",
          "text": [
            "Python\n",
            "Statistics\n",
            "2024\n"
          ]
        }
      ],
      "source": [
        "for q in py_stat_dict:\n",
        "  print(py_stat_dict[q])"
      ]
    },
    {
      "cell_type": "markdown",
      "id": "RcwXDLUHJ4eh",
      "metadata": {
        "id": "RcwXDLUHJ4eh"
      },
      "source": [
        "* The same output is obtained when we use the following:"
      ]
    },
    {
      "cell_type": "code",
      "execution_count": 99,
      "id": "cESM-ZZEJ8WL",
      "metadata": {
        "colab": {
          "base_uri": "https://localhost:8080/"
        },
        "id": "cESM-ZZEJ8WL",
        "outputId": "6eb06af2-e81e-435a-83d3-c1ae065a2611"
      },
      "outputs": [
        {
          "output_type": "stream",
          "name": "stdout",
          "text": [
            "Python\n",
            "Statistics\n",
            "2024\n"
          ]
        }
      ],
      "source": [
        "for k in py_stat_dict.values():\n",
        "  print(k)"
      ]
    },
    {
      "cell_type": "markdown",
      "id": "5Gpi7pvRM-4P",
      "metadata": {
        "id": "5Gpi7pvRM-4P"
      },
      "source": [
        "* To access both *`keys`* and *`values`* together, we use the method **`items()`** as follows."
      ]
    },
    {
      "cell_type": "code",
      "execution_count": 100,
      "id": "Log0pld2QfoX",
      "metadata": {
        "colab": {
          "base_uri": "https://localhost:8080/"
        },
        "id": "Log0pld2QfoX",
        "outputId": "7f44e9a1-e349-4b1b-9eb1-8987f5674547"
      },
      "outputs": [
        {
          "output_type": "stream",
          "name": "stdout",
          "text": [
            "name Python\n",
            "purpose Statistics\n",
            "year 2024\n"
          ]
        }
      ],
      "source": [
        "for x, y in py_stat_dict.items():\n",
        "  print(x, y)"
      ]
    },
    {
      "cell_type": "markdown",
      "id": "z5fU6VELSgNC",
      "metadata": {
        "id": "z5fU6VELSgNC"
      },
      "source": [
        "* To check if a *`key`* exists within a dictionary, we employ a conditional **`if`** statement."
      ]
    },
    {
      "cell_type": "code",
      "execution_count": 101,
      "id": "yRFfG1hfXkI7",
      "metadata": {
        "colab": {
          "base_uri": "https://localhost:8080/"
        },
        "id": "yRFfG1hfXkI7",
        "outputId": "08fb0fa0-3192-472e-a562-6fb1508b51dc"
      },
      "outputs": [
        {
          "output_type": "stream",
          "name": "stdout",
          "text": [
            "'purpose' is one of a valid keys\n"
          ]
        }
      ],
      "source": [
        "if \"purpose\" in py_stat_dict:\n",
        "  print(\"'purpose' is one of a valid keys\")\n",
        "else:\n",
        "  print(\"'purpose' is not one of the valid keys\")"
      ]
    },
    {
      "cell_type": "markdown",
      "id": "vcPtJn6PbSbO",
      "metadata": {
        "id": "vcPtJn6PbSbO"
      },
      "source": [
        "We add a new element to a dictionary.\n",
        "\n",
        "* For this, a new key is used, and a value is assigned to this key, as given below."
      ]
    },
    {
      "cell_type": "code",
      "execution_count": 102,
      "id": "AAwYgtJUcGbr",
      "metadata": {
        "colab": {
          "base_uri": "https://localhost:8080/"
        },
        "id": "AAwYgtJUcGbr",
        "outputId": "67ebe1cb-cc14-4dc0-9ade-b99ea34b634d"
      },
      "outputs": [
        {
          "output_type": "stream",
          "name": "stdout",
          "text": [
            "{'name': 'Python', 'purpose': 'Statistics', 'year': 2024, 'pages': 300}\n"
          ]
        }
      ],
      "source": [
        "py_stat_dict[\"pages\"] = 300\n",
        "print(py_stat_dict)"
      ]
    },
    {
      "cell_type": "code",
      "execution_count": 103,
      "id": "0y4xkavvdEDN",
      "metadata": {
        "colab": {
          "base_uri": "https://localhost:8080/"
        },
        "id": "0y4xkavvdEDN",
        "outputId": "3aed1c9c-d1dd-4f30-8d5f-69af7ea3b245"
      },
      "outputs": [
        {
          "output_type": "stream",
          "name": "stdout",
          "text": [
            "{'name': 'Python', 'purpose': 'Data Science', 'year': 2024, 'pages': 300}\n"
          ]
        }
      ],
      "source": [
        "py_stat_dict[\"purpose\"] = \"Data Science\"\n",
        "print(py_stat_dict)"
      ]
    },
    {
      "cell_type": "markdown",
      "id": "e7CwXAGUgXMx",
      "metadata": {
        "id": "e7CwXAGUgXMx"
      },
      "source": [
        "* The method **`pop()`** can be used to remove a specific element."
      ]
    },
    {
      "cell_type": "code",
      "execution_count": 104,
      "id": "Cy2Ps9kMgqYb",
      "metadata": {
        "colab": {
          "base_uri": "https://localhost:8080/"
        },
        "id": "Cy2Ps9kMgqYb",
        "outputId": "c71e6f1e-04aa-437e-f4e1-3a29867f7778"
      },
      "outputs": [
        {
          "output_type": "stream",
          "name": "stdout",
          "text": [
            "{'name': 'Python', 'purpose': 'Data Science', 'pages': 300}\n"
          ]
        }
      ],
      "source": [
        "py_stat_dict.pop(\"year\") # del py_stat_dict[“year”] does the same job.\n",
        "print(py_stat_dict)"
      ]
    },
    {
      "cell_type": "markdown",
      "id": "fmMXM7tB6s2H",
      "metadata": {
        "id": "fmMXM7tB6s2H"
      },
      "source": [
        "* The keyword **`del`** removes the whole dictionary when we use **`del py_stat_dict**. The method **`clear()`** deletes all the elements of a dictionary."
      ]
    },
    {
      "cell_type": "code",
      "execution_count": 105,
      "id": "OMjlAJKH7O-L",
      "metadata": {
        "colab": {
          "base_uri": "https://localhost:8080/"
        },
        "id": "OMjlAJKH7O-L",
        "outputId": "43e75b5a-104c-4c11-bdd4-105820517f96"
      },
      "outputs": [
        {
          "output_type": "execute_result",
          "data": {
            "text/plain": [
              "{}"
            ]
          },
          "metadata": {},
          "execution_count": 105
        }
      ],
      "source": [
        "py_stat_dict.clear()\n",
        "py_stat_dict"
      ]
    },
    {
      "cell_type": "markdown",
      "id": "6bSZonyZ7_ax",
      "metadata": {
        "id": "6bSZonyZ7_ax"
      },
      "source": [
        "The method **`len(dictionay_name)`** is used to print the number of **`key:value`** pairs present in the dictionary."
      ]
    },
    {
      "cell_type": "code",
      "execution_count": 106,
      "id": "AJ9epN4j8AaV",
      "metadata": {
        "colab": {
          "base_uri": "https://localhost:8080/"
        },
        "id": "AJ9epN4j8AaV",
        "outputId": "7e32869a-3c46-4395-9375-b0d93c2109d3"
      },
      "outputs": [
        {
          "output_type": "stream",
          "name": "stdout",
          "text": [
            "3\n"
          ]
        }
      ],
      "source": [
        "py_stat_dict = {\n",
        "    \"name\": \"Python\",\n",
        "    \"purpose\": \"Statistics\",\n",
        "    \"year\": 2020\n",
        "}\n",
        "print(len(py_stat_dict))"
      ]
    },
    {
      "cell_type": "markdown",
      "id": "FejuZhrI9em8",
      "metadata": {
        "id": "FejuZhrI9em8"
      },
      "source": [
        "* A dictionary cannot be copied by a simple assignment such as **`py_stat_dict2 = py_stat_dict`**.\n",
        "\n",
        "* It is because py_stat_dict2\n",
        "is just a reference to the original dictionary py_stat_dict. Whatever changes are made to py_stat_dict are automatically made to py_stat_dict2, as well.\n",
        "\n",
        "* To copy the elements of a\n",
        "dictionary, we use the method **`copy()`** as follows."
      ]
    },
    {
      "cell_type": "code",
      "execution_count": 107,
      "id": "FayKP_LBAyNC",
      "metadata": {
        "colab": {
          "base_uri": "https://localhost:8080/"
        },
        "id": "FayKP_LBAyNC",
        "outputId": "9cb6c524-c2c7-4fbf-c7a8-c402f8dcff84"
      },
      "outputs": [
        {
          "output_type": "stream",
          "name": "stdout",
          "text": [
            "{'name': 'Python', 'purpose': 'Statistics', 'year': 2020}\n",
            "{'name': 'Python', 'purpose': 'Statistics', 'year': 2020}\n"
          ]
        }
      ],
      "source": [
        "py_stat_dict2 = py_stat_dict.copy()\n",
        "print(py_stat_dict)\n",
        "print(py_stat_dict2)"
      ]
    },
    {
      "cell_type": "markdown",
      "id": "3n7eO4UjCxvf",
      "metadata": {
        "id": "3n7eO4UjCxvf"
      },
      "source": [
        "[**`Further Reading:`** A detailed tutorial on Python is given in ](https://docs.python.org/3/tutorial/)"
      ]
    },
    {
      "cell_type": "markdown",
      "id": "EHMopA6MDT_w",
      "metadata": {
        "id": "EHMopA6MDT_w"
      },
      "source": [
        "## **1.6 Python Libraries for Statistics**"
      ]
    },
    {
      "cell_type": "markdown",
      "id": "0P8rX0xPI4Zy",
      "metadata": {
        "id": "0P8rX0xPI4Zy"
      },
      "source": [
        "The Anaconda distribution of Python includes suitable packages and libraries that can readily be used for statistical tasks. The following libraries will be used right through this\n",
        "book:\n",
        "\n",
        "  1. **`NumPy`** for mathematical functions,\n",
        "  2. **`Pandas`** for data processing,\n",
        "  3. **`Statistics:`** Python's built-in module for Statistical functions,\n",
        "  4. **`Matplotlib`** for visualization and plotting,\n",
        "  5. **`SciPy.stats`** module for basic and advanced statistical functions,\n",
        "  6. **`Statsmodels`** for statistical models,\n",
        "  7. **`PyMC`** for Bayesian modeling and inference.\n",
        "\n",
        "All except the PyMC library are pre-installed in Anaconda distribution. We shall discuss the installation of the PyMC in subsequent Section. The details of these libraries are given in the\n",
        "following sections."
      ]
    },
    {
      "cell_type": "markdown",
      "id": "ldXI4ykPwh-v",
      "metadata": {
        "id": "ldXI4ykPwh-v"
      },
      "source": [
        "### **1.6.1 NumPy for Mathematical Functions**"
      ]
    },
    {
      "cell_type": "markdown",
      "id": "mgXyr3oew-R7",
      "metadata": {
        "id": "mgXyr3oew-R7"
      },
      "source": [
        " **`NumPy,`** or Numerical Python, is a Python library that supports multi-dimensional arrays and matrices.\n",
        "\n",
        "\n",
        "* It provides a sizable collection of fast numeric functions to work with these arrays\n",
        "and to perform operations of linear algebra on them.\n",
        "\n",
        "\n",
        "* In most programming languages, including Python, arrays are used to store multiple values in a variable.\n",
        "\n",
        "\n",
        "* An **`array`** is a variable that is able to hold several values. Arrays are commonly used\n",
        "to store statistical data.\n",
        "\n",
        "* In standard Python, lists are used as\n",
        "arrays. However, lists are slow to work with.\n",
        "\n",
        "\n",
        "In case speed is an important factor, we use **`NumPy's array`** object, also called **`ndarray`**, that is significantly faster than a list.\n",
        "\n",
        "\n",
        "* To create and use **`nd arrays`**, we first need to import the NumPy library. Often, we use an alias to refer to the name of different\n",
        "libraries. NumPy is usually replaced with its defined alias **`np`**.\n",
        "\n",
        "\n",
        "To create NumPy arrays, we type the following code."
      ]
    },
    {
      "cell_type": "code",
      "execution_count": 108,
      "id": "hI5rDIGy7yoT",
      "metadata": {
        "colab": {
          "base_uri": "https://localhost:8080/"
        },
        "id": "hI5rDIGy7yoT",
        "outputId": "bfa84bc8-2621-49b5-d0f2-60235a0225d9"
      },
      "outputs": [
        {
          "output_type": "stream",
          "name": "stdout",
          "text": [
            "20\n",
            "[10 20 30 40 50]\n"
          ]
        },
        {
          "output_type": "execute_result",
          "data": {
            "text/plain": [
              "(5,)"
            ]
          },
          "metadata": {},
          "execution_count": 108
        }
      ],
      "source": [
        "import numpy as np\n",
        "import torch\n",
        "my_arr0 = np.array(20)\n",
        "my_arr1 = np.array([10, 20, 30, 40, 50])\n",
        "print(my_arr0)\n",
        "print(my_arr1)\n",
        "my_arr1.shape"
      ]
    },
    {
      "cell_type": "markdown",
      "id": "8CSByVRJEb1K",
      "metadata": {
        "id": "8CSByVRJEb1K"
      },
      "source": [
        "The scalar values are considered as 0-dimensional arrays.\n",
        "\n",
        "* An array of scalar or 0-dimensional values is called a 1-dimensional array. The variable **my_arr0** in the aforementioned program\n",
        "is a 0-dimensional array, whereas variable **my_arr1** is a 1-dimensional array"
      ]
    },
    {
      "cell_type": "markdown",
      "id": "QcB2Le3KRCkU",
      "metadata": {
        "id": "QcB2Le3KRCkU"
      },
      "source": [
        "### **1.6.2 Special Matrices**"
      ]
    },
    {
      "cell_type": "markdown",
      "id": "dbdvKOmpR5t3",
      "metadata": {
        "id": "dbdvKOmpR5t3"
      },
      "source": [
        "#### **1.6.2.1 Transposed Matrix**"
      ]
    },
    {
      "cell_type": "markdown",
      "id": "1fJE9FxYVesx",
      "metadata": {
        "id": "1fJE9FxYVesx"
      },
      "source": [
        "A matrix in which the rows and columns of $m \\times n$ --dimensional matrix $A$ are exchanged is called $A$'s transposed matrix and is represented by $A^{T}$. The dimension of a transposed matrix is $n \\times m$."
      ]
    },
    {
      "cell_type": "code",
      "execution_count": 109,
      "id": "RFpOBQFX-K6B",
      "metadata": {
        "id": "RFpOBQFX-K6B"
      },
      "outputs": [],
      "source": [
        "import numpy as np\n",
        "import torch"
      ]
    },
    {
      "cell_type": "markdown",
      "id": "XWuI56W0_KMK",
      "metadata": {
        "id": "XWuI56W0_KMK"
      },
      "source": [
        "##### **1. Vector Transposition**"
      ]
    },
    {
      "cell_type": "code",
      "execution_count": 110,
      "id": "wSoCkY1n_uIS",
      "metadata": {
        "colab": {
          "base_uri": "https://localhost:8080/"
        },
        "id": "wSoCkY1n_uIS",
        "outputId": "a754e496-ee2f-4e93-e04b-3aa65d89126f"
      },
      "outputs": [
        {
          "output_type": "stream",
          "name": "stdout",
          "text": [
            "[25  2  5]\n"
          ]
        }
      ],
      "source": [
        "x = np.array([25, 2, 5])\n",
        "print(x)"
      ]
    },
    {
      "cell_type": "code",
      "execution_count": 111,
      "id": "FgcO4N0IAK5w",
      "metadata": {
        "colab": {
          "base_uri": "https://localhost:8080/"
        },
        "id": "FgcO4N0IAK5w",
        "outputId": "1dedbcab-b6b9-4e7a-8fe3-2f68441a610c"
      },
      "outputs": [
        {
          "output_type": "execute_result",
          "data": {
            "text/plain": [
              "(3,)"
            ]
          },
          "metadata": {},
          "execution_count": 111
        }
      ],
      "source": [
        "x.shape"
      ]
    },
    {
      "cell_type": "code",
      "execution_count": 112,
      "id": "sFBbHcsjAWFH",
      "metadata": {
        "colab": {
          "base_uri": "https://localhost:8080/"
        },
        "id": "sFBbHcsjAWFH",
        "outputId": "0cebd3bc-f8c3-413c-f438-71081b56a391"
      },
      "outputs": [
        {
          "output_type": "stream",
          "name": "stdout",
          "text": [
            "[[25  2  5]]\n"
          ]
        }
      ],
      "source": [
        "x = np.array([[25, 2, 5]])\n",
        "print(x)"
      ]
    },
    {
      "cell_type": "code",
      "execution_count": 113,
      "id": "-w0ZlJtBAmV5",
      "metadata": {
        "colab": {
          "base_uri": "https://localhost:8080/"
        },
        "id": "-w0ZlJtBAmV5",
        "outputId": "49d3d3e1-1454-4938-ba60-7537c4927745"
      },
      "outputs": [
        {
          "output_type": "execute_result",
          "data": {
            "text/plain": [
              "(1, 3)"
            ]
          },
          "metadata": {},
          "execution_count": 113
        }
      ],
      "source": [
        "x.shape"
      ]
    },
    {
      "cell_type": "code",
      "execution_count": 114,
      "id": "VISeezkTBYq5",
      "metadata": {
        "colab": {
          "base_uri": "https://localhost:8080/"
        },
        "id": "VISeezkTBYq5",
        "outputId": "cfc73f1e-906b-4a6e-fa18-f2ef7d7a98ee"
      },
      "outputs": [
        {
          "output_type": "stream",
          "name": "stdout",
          "text": [
            "[[25]\n",
            " [ 2]\n",
            " [ 5]]\n"
          ]
        }
      ],
      "source": [
        "print(x.T)"
      ]
    },
    {
      "cell_type": "code",
      "execution_count": 115,
      "id": "MFqE9nVMB7OR",
      "metadata": {
        "colab": {
          "base_uri": "https://localhost:8080/"
        },
        "id": "MFqE9nVMB7OR",
        "outputId": "ff5d468a-59db-4c19-cd35-bb888e00b1a0"
      },
      "outputs": [
        {
          "output_type": "stream",
          "name": "stdout",
          "text": [
            "(3, 1)\n"
          ]
        }
      ],
      "source": [
        "print(x.T.shape) # shape tells us the dimmensions of a matrix"
      ]
    },
    {
      "cell_type": "code",
      "execution_count": 116,
      "id": "SKBDhE8qCTWD",
      "metadata": {
        "colab": {
          "base_uri": "https://localhost:8080/"
        },
        "id": "SKBDhE8qCTWD",
        "outputId": "77ee60c7-eff0-4196-cb7e-9402adc34563"
      },
      "outputs": [
        {
          "output_type": "stream",
          "name": "stdout",
          "text": [
            "tensor([25,  2,  5])\n"
          ]
        }
      ],
      "source": [
        "x_p = torch.tensor([25, 2, 5])\n",
        "print(x_p)"
      ]
    },
    {
      "cell_type": "code",
      "execution_count": 117,
      "id": "WHtTgbccCxc9",
      "metadata": {
        "colab": {
          "base_uri": "https://localhost:8080/"
        },
        "id": "WHtTgbccCxc9",
        "outputId": "515beb99-f01b-4282-a8c0-0adbb2011e08"
      },
      "outputs": [
        {
          "output_type": "stream",
          "name": "stderr",
          "text": [
            "<ipython-input-117-9b01c19e570c>:1: UserWarning: The use of `x.T` on tensors of dimension other than 2 to reverse their shape is deprecated and it will throw an error in a future release. Consider `x.mT` to transpose batches of matrices or `x.permute(*torch.arange(x.ndim - 1, -1, -1))` to reverse the dimensions of a tensor. (Triggered internally at ../aten/src/ATen/native/TensorShape.cpp:3637.)\n",
            "  x_p.T\n"
          ]
        },
        {
          "output_type": "execute_result",
          "data": {
            "text/plain": [
              "torch.Size([3])"
            ]
          },
          "metadata": {},
          "execution_count": 117
        }
      ],
      "source": [
        "x_p.T\n",
        "x_p.shape"
      ]
    },
    {
      "cell_type": "code",
      "execution_count": 118,
      "id": "zRB5QnpuDdGe",
      "metadata": {
        "colab": {
          "base_uri": "https://localhost:8080/"
        },
        "id": "zRB5QnpuDdGe",
        "outputId": "933cf2bb-a882-4bdd-978b-25c0fc31cde6"
      },
      "outputs": [
        {
          "output_type": "execute_result",
          "data": {
            "text/plain": [
              "tensor([[25,  3,  5]])"
            ]
          },
          "metadata": {},
          "execution_count": 118
        }
      ],
      "source": [
        "x_p = torch.tensor([[25, 3, 5]])\n",
        "x_p"
      ]
    },
    {
      "cell_type": "code",
      "execution_count": 119,
      "id": "VMVK_X2nDps6",
      "metadata": {
        "colab": {
          "base_uri": "https://localhost:8080/"
        },
        "id": "VMVK_X2nDps6",
        "outputId": "039ad93d-cf95-4358-adad-0b78cdb3cfb7"
      },
      "outputs": [
        {
          "output_type": "execute_result",
          "data": {
            "text/plain": [
              "tensor([[25],\n",
              "        [ 3],\n",
              "        [ 5]])"
            ]
          },
          "metadata": {},
          "execution_count": 119
        }
      ],
      "source": [
        "x_p.T"
      ]
    },
    {
      "cell_type": "code",
      "execution_count": 120,
      "id": "4qaA9vdlDvnc",
      "metadata": {
        "colab": {
          "base_uri": "https://localhost:8080/"
        },
        "id": "4qaA9vdlDvnc",
        "outputId": "a4f8f080-bf78-481f-aaf8-2ba8395e4632"
      },
      "outputs": [
        {
          "output_type": "execute_result",
          "data": {
            "text/plain": [
              "torch.Size([1, 3])"
            ]
          },
          "metadata": {},
          "execution_count": 120
        }
      ],
      "source": [
        "x_p.shape"
      ]
    },
    {
      "cell_type": "code",
      "execution_count": 121,
      "id": "ZFqZB8zvEELD",
      "metadata": {
        "colab": {
          "base_uri": "https://localhost:8080/"
        },
        "id": "ZFqZB8zvEELD",
        "outputId": "9cf86432-4824-49f0-cdf3-089f099d8a84"
      },
      "outputs": [
        {
          "output_type": "execute_result",
          "data": {
            "text/plain": [
              "tensor([[25],\n",
              "        [ 3],\n",
              "        [ 5]])"
            ]
          },
          "metadata": {},
          "execution_count": 121
        }
      ],
      "source": [
        "x_p.view(3,1)"
      ]
    },
    {
      "cell_type": "markdown",
      "id": "l5yyAYKBEw2Q",
      "metadata": {
        "id": "l5yyAYKBEw2Q"
      },
      "source": [
        "##### **2. The Norm of a Vector ($L^{2}$ Norm)**"
      ]
    },
    {
      "cell_type": "markdown",
      "id": "DPydZ3FTFKM8",
      "metadata": {
        "id": "DPydZ3FTFKM8"
      },
      "source": [
        "To calculate the $L^{2}$ **`norm`** of a vector, take the square root of the sum of the squared vector values. For example, if\n",
        "$$\\begin{equation}\n",
        "\\vec{x} =\n",
        "\\begin{bmatrix}\n",
        "x_{1}\\\\\n",
        "x_{2}\\\\\n",
        "\\vdots\\\\\n",
        "x_{n}\n",
        "\\end{bmatrix}\n",
        "\\end{equation}$$\n",
        "norm of $x$ is given by $$ |x| = \\sqrt{\\sum_{i=1}^k |x_i|^{2}}$$   "
      ]
    },
    {
      "cell_type": "code",
      "execution_count": 122,
      "id": "ctQECFx6NTow",
      "metadata": {
        "colab": {
          "base_uri": "https://localhost:8080/"
        },
        "id": "ctQECFx6NTow",
        "outputId": "52c40e33-d05f-4f93-deb9-a77c0168ae69"
      },
      "outputs": [
        {
          "output_type": "execute_result",
          "data": {
            "text/plain": [
              "25.573423705088842"
            ]
          },
          "metadata": {},
          "execution_count": 122
        }
      ],
      "source": [
        "x = np.array([[25, 2, 5]])\n",
        "x_norm = (25**2 + 2**2 + 5**2)**(1/2)\n",
        "x_norm"
      ]
    },
    {
      "cell_type": "code",
      "execution_count": 123,
      "id": "Ma9qo2k3OWvE",
      "metadata": {
        "colab": {
          "base_uri": "https://localhost:8080/"
        },
        "id": "Ma9qo2k3OWvE",
        "outputId": "ac17276b-565c-43fd-d190-8a413522a433"
      },
      "outputs": [
        {
          "output_type": "execute_result",
          "data": {
            "text/plain": [
              "25.573423705088842"
            ]
          },
          "metadata": {},
          "execution_count": 123
        }
      ],
      "source": [
        "x_norm = np.linalg.norm(x)\n",
        "x_norm"
      ]
    },
    {
      "cell_type": "markdown",
      "id": "5DLxdOoLiEXl",
      "metadata": {
        "id": "5DLxdOoLiEXl"
      },
      "source": [
        "##### **2. Matrix Transposition**"
      ]
    },
    {
      "cell_type": "code",
      "execution_count": 124,
      "id": "3l-Pn1i_iOiL",
      "metadata": {
        "colab": {
          "base_uri": "https://localhost:8080/"
        },
        "id": "3l-Pn1i_iOiL",
        "outputId": "48c89dee-7fdf-45ba-949c-6cad10bc4af9"
      },
      "outputs": [
        {
          "output_type": "execute_result",
          "data": {
            "text/plain": [
              "array([[25,  2],\n",
              "       [ 5, 26],\n",
              "       [ 3,  7]])"
            ]
          },
          "metadata": {},
          "execution_count": 124
        }
      ],
      "source": [
        "X = np.array([[25, 2], [5, 26], [3, 7]])\n",
        "X"
      ]
    },
    {
      "cell_type": "code",
      "execution_count": 125,
      "id": "CUr78SfpioCV",
      "metadata": {
        "colab": {
          "base_uri": "https://localhost:8080/"
        },
        "id": "CUr78SfpioCV",
        "outputId": "64732bb3-4595-4337-ecdf-cffb55608853"
      },
      "outputs": [
        {
          "output_type": "execute_result",
          "data": {
            "text/plain": [
              "(3, 2)"
            ]
          },
          "metadata": {},
          "execution_count": 125
        }
      ],
      "source": [
        "X.shape"
      ]
    },
    {
      "cell_type": "code",
      "execution_count": 126,
      "id": "v-tWaNuOi0ZQ",
      "metadata": {
        "colab": {
          "base_uri": "https://localhost:8080/"
        },
        "id": "v-tWaNuOi0ZQ",
        "outputId": "c623ff1e-1e8f-444c-ceba-6ee4f54d3ab4"
      },
      "outputs": [
        {
          "output_type": "execute_result",
          "data": {
            "text/plain": [
              "array([[25,  5,  3],\n",
              "       [ 2, 26,  7]])"
            ]
          },
          "metadata": {},
          "execution_count": 126
        }
      ],
      "source": [
        "X.T"
      ]
    },
    {
      "cell_type": "code",
      "execution_count": 127,
      "id": "MOEJ9LIni4cB",
      "metadata": {
        "colab": {
          "base_uri": "https://localhost:8080/"
        },
        "id": "MOEJ9LIni4cB",
        "outputId": "384782dc-ce95-4c4f-91dc-7f383ac5155c"
      },
      "outputs": [
        {
          "output_type": "execute_result",
          "data": {
            "text/plain": [
              "(2, 3)"
            ]
          },
          "metadata": {},
          "execution_count": 127
        }
      ],
      "source": [
        "X.T.shape"
      ]
    },
    {
      "cell_type": "code",
      "execution_count": 128,
      "id": "f8jVwtw5jO-K",
      "metadata": {
        "colab": {
          "base_uri": "https://localhost:8080/"
        },
        "id": "f8jVwtw5jO-K",
        "outputId": "ca58199e-305d-4076-be63-b990a6c3106f"
      },
      "outputs": [
        {
          "output_type": "execute_result",
          "data": {
            "text/plain": [
              "array([[25,  5,  3],\n",
              "       [ 2, 26,  7]])"
            ]
          },
          "metadata": {},
          "execution_count": 128
        }
      ],
      "source": [
        "X_trans = np.transpose(X)\n",
        "X_trans"
      ]
    },
    {
      "cell_type": "markdown",
      "id": "9ZLTJHRTkH_j",
      "metadata": {
        "id": "9ZLTJHRTkH_j"
      },
      "source": [
        "Transpose of the transpose matrix becomes the original matrix. $(A^{T})^{T} = A$."
      ]
    },
    {
      "cell_type": "code",
      "execution_count": 129,
      "id": "HDkSvegakhWa",
      "metadata": {
        "colab": {
          "base_uri": "https://localhost:8080/"
        },
        "id": "HDkSvegakhWa",
        "outputId": "65568ee4-4f1b-498d-b913-b0ae318e5f28"
      },
      "outputs": [
        {
          "output_type": "execute_result",
          "data": {
            "text/plain": [
              "array([[25,  2],\n",
              "       [ 5, 26],\n",
              "       [ 3,  7]])"
            ]
          },
          "metadata": {},
          "execution_count": 129
        }
      ],
      "source": [
        "X = (X.T).T\n",
        "X"
      ]
    },
    {
      "cell_type": "markdown",
      "id": "8gwOAzczlOEO",
      "metadata": {
        "id": "8gwOAzczlOEO"
      },
      "source": [
        "The following relationship holds for the transpose of the matrix product between two matrices. $$(A \\cdot B)^{T} = B^{T} ⋅ A^{T}$$"
      ]
    },
    {
      "cell_type": "markdown",
      "id": "zVPoENianTgM",
      "metadata": {
        "id": "zVPoENianTgM"
      },
      "source": [
        "#### **1.6.2.2 Square Matrix**"
      ]
    },
    {
      "cell_type": "markdown",
      "id": "7Fr_aiuAn_Ij",
      "metadata": {
        "id": "7Fr_aiuAn_Ij"
      },
      "source": [
        "A matrix with the same row and column dimensions is called a **`square matrix`**, and the transpose of the square matrix is exchanged for the values of the elements other than the diagonal."
      ]
    },
    {
      "cell_type": "code",
      "execution_count": 130,
      "id": "6l2WP4uLoSrF",
      "metadata": {
        "colab": {
          "base_uri": "https://localhost:8080/"
        },
        "id": "6l2WP4uLoSrF",
        "outputId": "79468ed9-707d-4fc7-8d72-0170beced374"
      },
      "outputs": [
        {
          "output_type": "execute_result",
          "data": {
            "text/plain": [
              "array([[1, 2, 3],\n",
              "       [4, 5, 6],\n",
              "       [7, 8, 9]])"
            ]
          },
          "metadata": {},
          "execution_count": 130
        }
      ],
      "source": [
        "A = np.array([[1, 2, 3], [4, 5, 6], [7, 8, 9]])\n",
        "A"
      ]
    },
    {
      "cell_type": "code",
      "execution_count": 131,
      "id": "3Zr9AnYvpPMx",
      "metadata": {
        "colab": {
          "base_uri": "https://localhost:8080/"
        },
        "id": "3Zr9AnYvpPMx",
        "outputId": "4e45289a-90a2-4266-eb5f-6b563c2f535a"
      },
      "outputs": [
        {
          "output_type": "execute_result",
          "data": {
            "text/plain": [
              "array([[1, 4, 7],\n",
              "       [2, 5, 8],\n",
              "       [3, 6, 9]])"
            ]
          },
          "metadata": {},
          "execution_count": 131
        }
      ],
      "source": [
        "AT = np.transpose(A)\n",
        "AT"
      ]
    },
    {
      "cell_type": "markdown",
      "id": "TZL2BT5Dqn_M",
      "metadata": {
        "id": "TZL2BT5Dqn_M"
      },
      "source": [
        "#### **1.6.2.3 Identity Matrix**"
      ]
    },
    {
      "cell_type": "markdown",
      "id": "_8Tc57oPrIrT",
      "metadata": {
        "id": "_8Tc57oPrIrT"
      },
      "source": [
        "The **`identity matrix`**  is a matrix in which the diagonal elements are all **1** and all other elements are **0**, and are represented by $I_{n},$, where $n$ is the number of rows or columns.\n",
        "\n",
        "* The matrix product with the identity matrix makes that matrix itself. $$AI = A$$\n",
        "\n",
        "The **`np.eye(n)`** function can be used to create an $n \\times n$ dimension identity matrix”\n",
        "\n"
      ]
    },
    {
      "cell_type": "code",
      "execution_count": 132,
      "id": "PwIH32I0v8d4",
      "metadata": {
        "colab": {
          "base_uri": "https://localhost:8080/"
        },
        "id": "PwIH32I0v8d4",
        "outputId": "d3f4f1da-bfdf-426b-e480-e6c927619633"
      },
      "outputs": [
        {
          "output_type": "execute_result",
          "data": {
            "text/plain": [
              "array([[1., 0.],\n",
              "       [0., 1.]])"
            ]
          },
          "metadata": {},
          "execution_count": 132
        }
      ],
      "source": [
        "I2 = np.eye(2)\n",
        "I2\n"
      ]
    },
    {
      "cell_type": "code",
      "execution_count": 133,
      "id": "EjUbaB3wwdJE",
      "metadata": {
        "colab": {
          "base_uri": "https://localhost:8080/"
        },
        "id": "EjUbaB3wwdJE",
        "outputId": "ec56f9bd-1d3a-46c1-e59b-e26114d55359"
      },
      "outputs": [
        {
          "output_type": "execute_result",
          "data": {
            "text/plain": [
              "array([[1., 0., 0.],\n",
              "       [0., 1., 0.],\n",
              "       [0., 0., 1.]])"
            ]
          },
          "metadata": {},
          "execution_count": 133
        }
      ],
      "source": [
        "I3 = np.eye(3)\n",
        "I3"
      ]
    },
    {
      "cell_type": "markdown",
      "id": "hQLOzxT2w2ZC",
      "metadata": {
        "id": "hQLOzxT2w2ZC"
      },
      "source": [
        "#### **1.6.2.4 Trace of a Matrix**"
      ]
    },
    {
      "cell_type": "markdown",
      "id": "5PzD_9QpxWfB",
      "metadata": {
        "id": "5PzD_9QpxWfB"
      },
      "source": [
        "The sum of the diagonal elements of a square matrix is called the **`trace of the matrix`** and is represented by **`tr(A)`**. It is calculated using the **`np.trace(A)`** function."
      ]
    },
    {
      "cell_type": "code",
      "execution_count": 134,
      "id": "ifnsJPseyBPZ",
      "metadata": {
        "colab": {
          "base_uri": "https://localhost:8080/"
        },
        "id": "ifnsJPseyBPZ",
        "outputId": "5fa2460e-fd14-45de-e315-afc0ef27a043"
      },
      "outputs": [
        {
          "output_type": "execute_result",
          "data": {
            "text/plain": [
              "15"
            ]
          },
          "metadata": {},
          "execution_count": 134
        }
      ],
      "source": [
        "tr_A = np.trace(A)\n",
        "tr_A"
      ]
    },
    {
      "cell_type": "code",
      "execution_count": 135,
      "id": "S0Hcs18YyPzk",
      "metadata": {
        "colab": {
          "base_uri": "https://localhost:8080/"
        },
        "id": "S0Hcs18YyPzk",
        "outputId": "5ed754d1-9164-4e99-ad37-7633e8b3206e"
      },
      "outputs": [
        {
          "output_type": "execute_result",
          "data": {
            "text/plain": [
              "15"
            ]
          },
          "metadata": {},
          "execution_count": 135
        }
      ],
      "source": [
        "tr_A = 0\n",
        "for i in range(A.shape[0]):\n",
        "  tr_A = tr_A + A[i, i]\n",
        "tr_A"
      ]
    },
    {
      "cell_type": "markdown",
      "id": "r9Kte-N20Ei-",
      "metadata": {
        "id": "r9Kte-N20Ei-"
      },
      "source": [
        "#### **1.6.2.5 Diagonal Matrix**"
      ]
    },
    {
      "cell_type": "markdown",
      "id": "ws75jcQs0nl_",
      "metadata": {
        "id": "ws75jcQs0nl_"
      },
      "source": [
        "A square matrix in which all the entries off the main diagonal are zero is called a **`diagonal matrix.`** Here are examples of some diagonal matices:\n",
        "$$ A = \\begin{bmatrix}\n",
        "2 & \\phantom{-}0\\\\\n",
        "0 & -5\n",
        "\\end{bmatrix},\n",
        "B = \\begin{bmatrix}\n",
        "1 & 0 & 0\\\\\n",
        "0 & 1 & 0\\\\\n",
        "0 & 0 & 1\n",
        "\\end{bmatrix},\n",
        "C = \\begin{bmatrix}\n",
        "0 & 0\\\\\n",
        "0 & 0\n",
        "\\end{bmatrix}\n",
        "$$"
      ]
    },
    {
      "cell_type": "code",
      "execution_count": 136,
      "id": "UwAdCoC52639",
      "metadata": {
        "colab": {
          "base_uri": "https://localhost:8080/"
        },
        "id": "UwAdCoC52639",
        "outputId": "d54a1a83-9501-4eb9-a9b6-f8076e173831"
      },
      "outputs": [
        {
          "output_type": "execute_result",
          "data": {
            "text/plain": [
              "array([[ 2,  0],\n",
              "       [ 0, -5]])"
            ]
          },
          "metadata": {},
          "execution_count": 136
        }
      ],
      "source": [
        "A = np.diag([2, -5])\n",
        "A"
      ]
    },
    {
      "cell_type": "code",
      "execution_count": 137,
      "id": "nZZXz2hX3tBI",
      "metadata": {
        "colab": {
          "base_uri": "https://localhost:8080/"
        },
        "id": "nZZXz2hX3tBI",
        "outputId": "8903d624-4d78-42c2-ac20-f25b57e4a80c"
      },
      "outputs": [
        {
          "output_type": "execute_result",
          "data": {
            "text/plain": [
              "array([[1, 0, 0],\n",
              "       [0, 1, 0],\n",
              "       [0, 0, 1]])"
            ]
          },
          "metadata": {},
          "execution_count": 137
        }
      ],
      "source": [
        "B = np.diag([1, 1, 1])\n",
        "B"
      ]
    },
    {
      "cell_type": "code",
      "execution_count": 138,
      "id": "bx0VxfI84OI9",
      "metadata": {
        "colab": {
          "base_uri": "https://localhost:8080/"
        },
        "id": "bx0VxfI84OI9",
        "outputId": "3c8ead6a-b7b6-4764-c173-9d2332f30eb9"
      },
      "outputs": [
        {
          "output_type": "execute_result",
          "data": {
            "text/plain": [
              "array([[0, 0],\n",
              "       [0, 0]])"
            ]
          },
          "metadata": {},
          "execution_count": 138
        }
      ],
      "source": [
        "C = np.diag([0, 0])\n",
        "C"
      ]
    },
    {
      "cell_type": "markdown",
      "id": "sqBzEXV75I2I",
      "metadata": {
        "id": "sqBzEXV75I2I"
      },
      "source": [
        "#### **1.6.2.6 Triangular Matrix**"
      ]
    },
    {
      "cell_type": "markdown",
      "id": "hJojWWb_GJh_",
      "metadata": {
        "id": "hJojWWb_GJh_"
      },
      "source": [
        "The triangular matrix can be divided into a lower triangular matrix and an upper triangular matrix based on the diagonal elements of the matrix.\n",
        "\n"
      ]
    },
    {
      "cell_type": "markdown",
      "id": "3B-4i2KCGcnn",
      "metadata": {
        "id": "3B-4i2KCGcnn"
      },
      "source": [
        "##### **1. Lower Triangular**\n",
        "\n",
        "* A **`matrix`** in which all the elements above the **principal (main)** elements are zero.\n",
        "\n",
        "* Using **`np.tril()`**"
      ]
    },
    {
      "cell_type": "markdown",
      "id": "X6PQMHMzHWrb",
      "metadata": {
        "id": "X6PQMHMzHWrb"
      },
      "source": [
        "##### **2. Upper Triangular**"
      ]
    },
    {
      "cell_type": "markdown",
      "id": "uAnqSqaEHfFr",
      "metadata": {
        "id": "uAnqSqaEHfFr"
      },
      "source": [
        "* A matrix in which all the elements below the **principal (main)** elements are zero.\n",
        "\n",
        "* Using **`np.triu()`**"
      ]
    },
    {
      "cell_type": "markdown",
      "id": "7h8k3lbPH9Cy",
      "metadata": {
        "id": "7h8k3lbPH9Cy"
      },
      "source": [
        "We use the function of numpy random module **`randint()`** to create random matrix object."
      ]
    },
    {
      "cell_type": "code",
      "execution_count": 139,
      "id": "eEBCwTxcJhRE",
      "metadata": {
        "colab": {
          "base_uri": "https://localhost:8080/"
        },
        "id": "eEBCwTxcJhRE",
        "outputId": "de74d7d7-2075-4aa1-b52a-6ad6d477b210"
      },
      "outputs": [
        {
          "output_type": "execute_result",
          "data": {
            "text/plain": [
              "array([[1, 4, 6],\n",
              "       [6, 2, 8],\n",
              "       [3, 1, 3]])"
            ]
          },
          "metadata": {},
          "execution_count": 139
        }
      ],
      "source": [
        "M = np.random.randint(1, 10, (3, 3))\n",
        "M"
      ]
    },
    {
      "cell_type": "code",
      "execution_count": 140,
      "id": "n91ZNwHUKDPV",
      "metadata": {
        "colab": {
          "base_uri": "https://localhost:8080/"
        },
        "id": "n91ZNwHUKDPV",
        "outputId": "3469c316-f0be-4af7-d914-3345ee906223"
      },
      "outputs": [
        {
          "output_type": "execute_result",
          "data": {
            "text/plain": [
              "array([[4, 5, 3],\n",
              "       [7, 5, 5],\n",
              "       [2, 8, 8]])"
            ]
          },
          "metadata": {},
          "execution_count": 140
        }
      ],
      "source": [
        "M = np.random.randint(2, 10, 9).reshape((3,3))\n",
        "M"
      ]
    },
    {
      "cell_type": "code",
      "execution_count": 141,
      "id": "eupRbRbSK9f-",
      "metadata": {
        "colab": {
          "base_uri": "https://localhost:8080/"
        },
        "id": "eupRbRbSK9f-",
        "outputId": "33a0846e-d671-4d56-8a90-5cdb43d59138"
      },
      "outputs": [
        {
          "output_type": "execute_result",
          "data": {
            "text/plain": [
              "array([[4, 0, 0],\n",
              "       [7, 5, 0],\n",
              "       [2, 8, 8]])"
            ]
          },
          "metadata": {},
          "execution_count": 141
        }
      ],
      "source": [
        "M_l = np.tril(M)\n",
        "M_l"
      ]
    },
    {
      "cell_type": "code",
      "execution_count": 142,
      "id": "Vw_8PDfcLM-I",
      "metadata": {
        "colab": {
          "base_uri": "https://localhost:8080/"
        },
        "id": "Vw_8PDfcLM-I",
        "outputId": "f95cda61-7605-4290-fdb4-479bacce2b34"
      },
      "outputs": [
        {
          "output_type": "execute_result",
          "data": {
            "text/plain": [
              "array([[4, 5, 3],\n",
              "       [0, 5, 5],\n",
              "       [0, 0, 8]])"
            ]
          },
          "metadata": {},
          "execution_count": 142
        }
      ],
      "source": [
        "M_u = np.triu(M)\n",
        "M_u"
      ]
    },
    {
      "cell_type": "code",
      "execution_count": 143,
      "id": "s6r83D7SLm7E",
      "metadata": {
        "colab": {
          "base_uri": "https://localhost:8080/"
        },
        "id": "s6r83D7SLm7E",
        "outputId": "e9f40d46-6362-464b-dc5f-9f33ec054e65"
      },
      "outputs": [
        {
          "output_type": "execute_result",
          "data": {
            "text/plain": [
              "array([[0, 5, 3],\n",
              "       [0, 0, 5],\n",
              "       [0, 0, 0]])"
            ]
          },
          "metadata": {},
          "execution_count": 143
        }
      ],
      "source": [
        "M_p = np.triu(M, k = 1)\n",
        "M_p"
      ]
    },
    {
      "cell_type": "markdown",
      "id": "7Rrf8pF8M4OU",
      "metadata": {
        "id": "7Rrf8pF8M4OU"
      },
      "source": [
        "The triangular matrix has the following characteristics.\n",
        "\n",
        "* The transposed matrix of the lower triangular matrix becomes the upper triangular matrix and vice versa."
      ]
    },
    {
      "cell_type": "code",
      "execution_count": 144,
      "id": "o-5fPs0sNC1S",
      "metadata": {
        "colab": {
          "base_uri": "https://localhost:8080/"
        },
        "id": "o-5fPs0sNC1S",
        "outputId": "1dd7d7d6-9ad4-4ce1-a70f-b341ddb1b929"
      },
      "outputs": [
        {
          "output_type": "execute_result",
          "data": {
            "text/plain": [
              "array([[4, 7, 2],\n",
              "       [0, 5, 8],\n",
              "       [0, 0, 8]])"
            ]
          },
          "metadata": {},
          "execution_count": 144
        }
      ],
      "source": [
        "M_l.T"
      ]
    },
    {
      "cell_type": "code",
      "execution_count": 145,
      "id": "Bqw37MTPNuVu",
      "metadata": {
        "colab": {
          "base_uri": "https://localhost:8080/"
        },
        "id": "Bqw37MTPNuVu",
        "outputId": "f9bf9a93-f008-4531-917c-cac9aee190a1"
      },
      "outputs": [
        {
          "output_type": "execute_result",
          "data": {
            "text/plain": [
              "array([[4, 0, 0],\n",
              "       [5, 5, 0],\n",
              "       [3, 5, 8]])"
            ]
          },
          "metadata": {},
          "execution_count": 145
        }
      ],
      "source": [
        "M_u.T"
      ]
    },
    {
      "cell_type": "markdown",
      "id": "FMjxzv9lOHdr",
      "metadata": {
        "id": "FMjxzv9lOHdr"
      },
      "source": [
        "If the diagonal elements of the triangular matrix are all 0, it becomes an **`irreversible matrix`**.\n",
        "\n",
        "* An irreversible matrix is a matrix that does not have an **`inverse matrix`**\n",
        " , and its **`determinant`**\n",
        " is 0.\n",
        "\n"
      ]
    },
    {
      "cell_type": "code",
      "execution_count": 146,
      "id": "hrak0E6jOo7W",
      "metadata": {
        "colab": {
          "base_uri": "https://localhost:8080/"
        },
        "id": "hrak0E6jOo7W",
        "outputId": "9694ff3f-3f0c-47ae-f947-b66f086873a9"
      },
      "outputs": [
        {
          "output_type": "execute_result",
          "data": {
            "text/plain": [
              "array([[0, 5, 3],\n",
              "       [0, 0, 5],\n",
              "       [0, 0, 0]])"
            ]
          },
          "metadata": {},
          "execution_count": 146
        }
      ],
      "source": [
        "M_p"
      ]
    },
    {
      "cell_type": "code",
      "execution_count": 147,
      "id": "tEBhcdBoPUpm",
      "metadata": {
        "colab": {
          "base_uri": "https://localhost:8080/"
        },
        "id": "tEBhcdBoPUpm",
        "outputId": "6076d023-176e-4667-d8fb-8b98ea969ad3"
      },
      "outputs": [
        {
          "output_type": "execute_result",
          "data": {
            "text/plain": [
              "0.0"
            ]
          },
          "metadata": {},
          "execution_count": 147
        }
      ],
      "source": [
        "import numpy as np\n",
        "import torch\n",
        "\n",
        "detM_p = np.linalg.det(M_p)\n",
        "detM_p"
      ]
    },
    {
      "cell_type": "markdown",
      "id": "tkr5UXrSnRvi",
      "metadata": {
        "id": "tkr5UXrSnRvi"
      },
      "source": [
        "* The inverse matrix from the upper triangle matrix and the lower triangle matrix are the upper triangle matrix and the lower triangle matrix, respectively."
      ]
    },
    {
      "cell_type": "markdown",
      "source": [
        "#### **1.6.2.6 Symmetric Matrix**"
      ],
      "metadata": {
        "id": "_x5LFBP7-scX"
      },
      "id": "_x5LFBP7-scX"
    },
    {
      "cell_type": "markdown",
      "source": [
        "A square matrix $A$ is said to be **`symmetric`** if $ A = A^{T}$."
      ],
      "metadata": {
        "id": "SzSSr8rI-5mb"
      },
      "id": "SzSSr8rI-5mb"
    },
    {
      "cell_type": "markdown",
      "source": [
        "The following matrices are symmetric since each is equal to its own transpose (verify):\n",
        "$$ \\begin{bmatrix}\n",
        "\\phantom{-}7 & -3\\\\\n",
        "-3 & \\phantom{-}5\n",
        "\\end{bmatrix}, \\quad\n",
        "\\begin{bmatrix}\n",
        "1 & 4 & 5\\\\\n",
        "4 & 2 & 6\\\\\n",
        "5 & 6 & 1\n",
        "\\end{bmatrix},\\quad\n",
        "\\begin{bmatrix}\n",
        "d_{1} & 0 & 0 & 0\\\\\n",
        "0 & d_{2} & 0 & 0 \\\\\n",
        "0 & 0 & d_{3} & 0 \\\\\n",
        "0 & 0 & 0 & d_{4}\n",
        "\\end{bmatrix}\n",
        "$$"
      ],
      "metadata": {
        "id": "Zy5AwDyj_mMj"
      },
      "id": "Zy5AwDyj_mMj"
    },
    {
      "cell_type": "code",
      "source": [
        "A = np.array([[7, -3], [-3, 5]])\n",
        "A"
      ],
      "metadata": {
        "colab": {
          "base_uri": "https://localhost:8080/"
        },
        "id": "l7kpC9raE4Hy",
        "outputId": "b1a782ee-6222-4bbc-ecbf-1cc72507100c"
      },
      "id": "l7kpC9raE4Hy",
      "execution_count": 148,
      "outputs": [
        {
          "output_type": "execute_result",
          "data": {
            "text/plain": [
              "array([[ 7, -3],\n",
              "       [-3,  5]])"
            ]
          },
          "metadata": {},
          "execution_count": 148
        }
      ]
    },
    {
      "cell_type": "code",
      "source": [
        "AT = np.array(A.T)\n",
        "AT"
      ],
      "metadata": {
        "colab": {
          "base_uri": "https://localhost:8080/"
        },
        "id": "jEvLXdQPFgbw",
        "outputId": "bac72cc0-8099-4d02-8964-619f1a7ee029"
      },
      "id": "jEvLXdQPFgbw",
      "execution_count": 149,
      "outputs": [
        {
          "output_type": "execute_result",
          "data": {
            "text/plain": [
              "array([[ 7, -3],\n",
              "       [-3,  5]])"
            ]
          },
          "metadata": {},
          "execution_count": 149
        }
      ]
    },
    {
      "cell_type": "code",
      "source": [
        "print(A == AT)"
      ],
      "metadata": {
        "colab": {
          "base_uri": "https://localhost:8080/"
        },
        "id": "E3i0ZnV9F4ht",
        "outputId": "be6f8481-95db-45ce-ab3f-b78f19349570"
      },
      "id": "E3i0ZnV9F4ht",
      "execution_count": 150,
      "outputs": [
        {
          "output_type": "stream",
          "name": "stdout",
          "text": [
            "[[ True  True]\n",
            " [ True  True]]\n"
          ]
        }
      ]
    },
    {
      "cell_type": "markdown",
      "source": [
        "### **1.6.3 Matrix Operation**"
      ],
      "metadata": {
        "id": "l3MweYmOBbvh"
      },
      "id": "l3MweYmOBbvh"
    },
    {
      "cell_type": "markdown",
      "source": [
        "Two $m \\times n$ matrices $A$ and $B$ are **equal** if they have the same number of rows and columns and their corresponsding entries are equal."
      ],
      "metadata": {
        "id": "u3tGAD99CO70"
      },
      "id": "u3tGAD99CO70"
    },
    {
      "cell_type": "markdown",
      "source": [
        "#### **1.6.3.1 Addition and Scalar Multiplication**"
      ],
      "metadata": {
        "id": "18OGLjuiDBQ_"
      },
      "id": "18OGLjuiDBQ_"
    },
    {
      "cell_type": "markdown",
      "source": [
        "If $A$ and $B$ are two $m \\times n$ matrices, then the **sum** of the matrices $A + B$ is the $m \\times n$ matrix with the real number $ij$ term given by $a_{ij} + b_{ij}$. The **scalar product** of the matrix A with real number $c$, denoted by $cA$, is the $m \\times n$ matrix with the $ij$ term given by $ca_{ij}$."
      ],
      "metadata": {
        "id": "rAgUZKo6Da2l"
      },
      "id": "rAgUZKo6Da2l"
    },
    {
      "cell_type": "markdown",
      "source": [
        "Perform the operations on the matrices:\n",
        "$$ A = \\begin{bmatrix}\n",
        "\\phantom{-}2 & 0 & \\phantom{-}1\\\\\n",
        "\\phantom{-}4 & 3 & -1\\\\\n",
        "-3 & 6 & \\phantom{-}5\n",
        "\\end{bmatrix}, \\quad \\text{and} \\quad\n",
        "\\begin{bmatrix}\n",
        "-2 & 3 & -1\\\\\n",
        "\\phantom{-}3 & 5 & \\phantom{-}6\\\\\n",
        "\\phantom{-}4 & 2 & \\phantom{-}1\n",
        "\\end{bmatrix}\n",
        "$$ \\\\\n",
        "\n",
        "\n",
        "**(a)** $A + B$  $\\quad \\quad $ **(b)** $2A -3B$"
      ],
      "metadata": {
        "id": "9tzp9K2WHkET"
      },
      "id": "9tzp9K2WHkET"
    },
    {
      "cell_type": "code",
      "source": [
        "A = np.array([[2, 0, 1], [4, 3, -1], [-3, 6, 5]])\n",
        "A"
      ],
      "metadata": {
        "colab": {
          "base_uri": "https://localhost:8080/"
        },
        "id": "RBIiJo-NLScj",
        "outputId": "97b0675a-1be4-481a-eeb3-b6916cac3f07"
      },
      "id": "RBIiJo-NLScj",
      "execution_count": 151,
      "outputs": [
        {
          "output_type": "execute_result",
          "data": {
            "text/plain": [
              "array([[ 2,  0,  1],\n",
              "       [ 4,  3, -1],\n",
              "       [-3,  6,  5]])"
            ]
          },
          "metadata": {},
          "execution_count": 151
        }
      ]
    },
    {
      "cell_type": "code",
      "source": [
        "B = np.array([[-2, 3, -1], [3, 5, 6], [4, 2, 1]])\n",
        "B"
      ],
      "metadata": {
        "colab": {
          "base_uri": "https://localhost:8080/"
        },
        "id": "bNdTGpsJMMsK",
        "outputId": "8d752a4c-cb0c-40ab-a031-293b31461c77"
      },
      "id": "bNdTGpsJMMsK",
      "execution_count": 152,
      "outputs": [
        {
          "output_type": "execute_result",
          "data": {
            "text/plain": [
              "array([[-2,  3, -1],\n",
              "       [ 3,  5,  6],\n",
              "       [ 4,  2,  1]])"
            ]
          },
          "metadata": {},
          "execution_count": 152
        }
      ]
    },
    {
      "cell_type": "code",
      "source": [
        "C = A + B\n",
        "C"
      ],
      "metadata": {
        "colab": {
          "base_uri": "https://localhost:8080/"
        },
        "id": "0Fg66W6sMjml",
        "outputId": "c8c80c19-3368-46eb-b698-cc9617cc08dc"
      },
      "id": "0Fg66W6sMjml",
      "execution_count": 153,
      "outputs": [
        {
          "output_type": "execute_result",
          "data": {
            "text/plain": [
              "array([[0, 3, 0],\n",
              "       [7, 8, 5],\n",
              "       [1, 8, 6]])"
            ]
          },
          "metadata": {},
          "execution_count": 153
        }
      ]
    },
    {
      "cell_type": "code",
      "source": [
        "D = 2*A - 3*B\n",
        "D"
      ],
      "metadata": {
        "colab": {
          "base_uri": "https://localhost:8080/"
        },
        "id": "26HLwob_Mv-J",
        "outputId": "165c8b81-2ead-4470-e9e0-366edbdc8d7f"
      },
      "id": "26HLwob_Mv-J",
      "execution_count": 155,
      "outputs": [
        {
          "output_type": "execute_result",
          "data": {
            "text/plain": [
              "array([[ 10,  -9,   5],\n",
              "       [ -1,  -9, -20],\n",
              "       [-18,   6,   7]])"
            ]
          },
          "metadata": {},
          "execution_count": 155
        }
      ]
    },
    {
      "cell_type": "markdown",
      "source": [
        "#### **1.6.3.2 Matrix Multiplication**"
      ],
      "metadata": {
        "id": "ukxS1zfEN8NZ"
      },
      "id": "ukxS1zfEN8NZ"
    },
    {
      "cell_type": "markdown",
      "source": [
        "We have defined matrix addition and a scalar multiplication, and we observed that these operations satisfy many of the analogous properties for real numbers. We have not yet considered the *`product`* of two matrices. Matrix multiplication is more difficult to define and is developed from the *`dot product`* of two vectors."
      ],
      "metadata": {
        "id": "rfzIEf-JOPEc"
      },
      "id": "rfzIEf-JOPEc"
    },
    {
      "cell_type": "markdown",
      "source": [],
      "metadata": {
        "id": "f4SZ6NrWPD6y"
      },
      "id": "f4SZ6NrWPD6y"
    },
    {
      "cell_type": "markdown",
      "metadata": {
        "id": "DrIxLNI1PEew"
      },
      "source": [
        "##### **1. Dot Product of Vectors**\n",
        "Given two vectors\n",
        "$$\n",
        "\\textbf{u} = \\begin{bmatrix}\n",
        "u_{1}\\\\\n",
        "u_{2}\\\\\n",
        "\\vdots \\\\\n",
        "u_{3}\n",
        "\\end{bmatrix} \\quad \\quad \\text{and} \\quad \\quad\n",
        "\\textbf{v} = \\begin{bmatrix}\n",
        "v_{1}\\\\\n",
        "v_{2}\\\\\n",
        "\\vdots \\\\\n",
        "v_{3}\n",
        "\\end{bmatrix}\n",
        "$$ \\\\\n",
        "the **`dot product`** is defined by $$\\textbf{u}\\cdot \\textbf{v} = u_{1}v_{1} + u_{2}v_{2} + \\dots + u_{n}v_{n} =  \\sum_{i=1}^{n} u_{1}v_{1} $$"
      ],
      "id": "DrIxLNI1PEew"
    },
    {
      "cell_type": "markdown",
      "source": [],
      "metadata": {
        "id": "ChSZpPVJUKvc"
      },
      "id": "ChSZpPVJUKvc"
    }
  ],
  "metadata": {
    "colab": {
      "provenance": [],
      "include_colab_link": true
    },
    "kernelspec": {
      "display_name": "Python 3 (ipykernel)",
      "language": "python",
      "name": "python3"
    },
    "language_info": {
      "codemirror_mode": {
        "name": "ipython",
        "version": 3
      },
      "file_extension": ".py",
      "mimetype": "text/x-python",
      "name": "python",
      "nbconvert_exporter": "python",
      "pygments_lexer": "ipython3",
      "version": "3.9.12"
    }
  },
  "nbformat": 4,
  "nbformat_minor": 5
}